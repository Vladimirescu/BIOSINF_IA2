{
 "cells": [
  {
   "cell_type": "markdown",
   "id": "adb51e69-1ae9-48f7-9103-27f93d2cf1f0",
   "metadata": {},
   "source": [
    "# Recurrent Neural Networks"
   ]
  },
  {
   "cell_type": "markdown",
   "id": "d1528aa6-84b5-422c-96e6-664eb6ee7ed6",
   "metadata": {
    "jp-MarkdownHeadingCollapsed": true
   },
   "source": [
    "## Table of Contents\n",
    "- [Theory](#theory)\n",
    "- [Text Classification](#app-1)\n",
    "- [Next Frame Prediction](#app-2)"
   ]
  },
  {
   "cell_type": "markdown",
   "id": "fccd427c-979a-4d3a-a19a-fc37c7a19e92",
   "metadata": {},
   "source": [
    "## **Theory** <a class=\"anchor\" id=\"theory\"></a>"
   ]
  },
  {
   "cell_type": "markdown",
   "id": "c3745445-ad45-4f4e-a738-29a43f5dd845",
   "metadata": {},
   "source": [
    "## RNNs - generalities"
   ]
  },
  {
   "cell_type": "markdown",
   "id": "2657fd5e-c173-4226-a51c-fb1448878425",
   "metadata": {},
   "source": [
    "Given a sequence of $T \\geq 2$ temporal states $x_0, x_2, \\dots, x_{T-1}$, with $x_i \\in \\mathbb{R}^d$, $i\\in \\{0, T-1\\}$, we want to extract task-related information from this sequence without \"breaking\" the temporal dimension. While MLPs clearly don't have a chance, CNNs may be able to grasp some temporal info by sliding a window along temporal dimension. However, given that the ordering of elements matter, *causal convolution* has to be applied s.t. the output of the current step doesn't depend on future states. "
   ]
  },
  {
   "cell_type": "markdown",
   "id": "e889f27f",
   "metadata": {},
   "source": [
    "In standard CNNs the output $y_i$ would depend on the following input context:\n",
    "$$[x_{i - \\lfloor K/2 \\rfloor}, x_{i - \\lfloor K/2 \\rfloor + 1}, \\dots, x_i, \\dots, x_{i + \\lfloor K/2 \\rfloor - 1}, x_{i + \\lfloor K/2 \\rfloor}]$$\n",
    "while in causal convolution the input context would be:\n",
    "$$[x_{i - K - 1}, x_{i - K -2}, \\dots, x_{i-1}, x_i]$$\n",
    ", where $K \\geq 3, K\\%2 = 1$ represents the kernel/filter length. "
   ]
  },
  {
   "cell_type": "markdown",
   "id": "dbc2bd64",
   "metadata": {},
   "source": [
    "Long-term dependencies that may arise in the sequence $\\{x_i\\}_{i=1}^T$ would be lost due to the limiting context length $K$. On the other hand, increasing $K$ leads to a higher memory and computational cost, along with the possibility of bypassing short-term information."
   ]
  },
  {
   "cell_type": "markdown",
   "id": "47299e0a-b2c9-474b-a629-cc7f9ba2768f",
   "metadata": {},
   "source": [
    "**Recurrent Neural Networks (RNNs)** are a class of NNs tailored to temporal/sequential data, step-by-step processing each input $x_t$ using the same set of parameters, taking into account the *context* of previous steps."
   ]
  },
  {
   "cell_type": "markdown",
   "id": "4cd1fce6",
   "metadata": {},
   "source": [
    "<div style=\"text-align: center;\">\n",
    "  <img src=\"imgs/rnn.png\" alt=\"description\" width=\"1000\"/>\n",
    "  <figcaption>Diagram of a 1-layer RNN</figcaption>\n",
    "</div>"
   ]
  },
  {
   "cell_type": "markdown",
   "id": "d0e5134a-e1b5-4f11-a58e-28dfe48609c4",
   "metadata": {},
   "source": [
    "**The same RNN cell** is used at each timestep, receiving the current input $x_i$ and previous state $h_{i-1}$ ($+$ any additional feature vector), and producing the current output $h_i$. In this way, multiple such RNN cells can be stacked, forming a multi-layer RNN, where upper layers receive as input the lower layers' outputs $h_i$ (the above figure corresponds to a single-layer RNN)."
   ]
  },
  {
   "cell_type": "markdown",
   "id": "8f0901f7-15a8-49d4-a9eb-4f5b192b775a",
   "metadata": {},
   "source": [
    "Of course, there are several disadvantages when using classic RNNs:\n",
    "- Long-term dependencies may still be lost due to the continous fading of relevant info, since a single cell cannot grasp all history\n",
    "- Lack of paralellism - we have to wait for previous state to finish computation (causality)"
   ]
  },
  {
   "cell_type": "markdown",
   "id": "1a885980-9a4a-43df-ba25-acd11665c63d",
   "metadata": {},
   "source": [
    "## The **LSTM** cell"
   ]
  },
  {
   "cell_type": "markdown",
   "id": "195194a2-e2c5-486f-9218-9cc5903f94a9",
   "metadata": {},
   "source": [
    "[Long Short Term Memory](https://www.bioinf.jku.at/publications/older/2604.pdf) (LSTM) cells have been introduced to mitigate the problem of forgetting long-term dependencies in classic RNN cells. \n",
    "\n",
    "Their main component is the **cell state**, an additional recurrent feature vector that passes through all timestamps, having minor influence on each output $\\rightarrow$ persists over multiple timesteps $\\rightarrow$ encapsulates long-term past states."
   ]
  },
  {
   "cell_type": "markdown",
   "id": "6ed6d8ea",
   "metadata": {},
   "source": [
    "Each LSTM cell is defined by 4 interconnected computational sub-modules:\n",
    "1. *Forget Gate*:  $\\{h_{t-1}, x_t\\} \\rightarrow$ mask $f_t$ representing **what to retain** from previous cell state $C_{t-1}$\n",
    "\n",
    "2. *Information Gate*: $\\{h_{t-1}, x_t\\} \\rightarrow$ mask $i_t$, along with new cell state candidates $\\tilde{C}_{t-1}$. Mask $i_t$ decides what to keep from current candidates $\\tilde{C}_{t-1}$ \n",
    "\n",
    "3. *State Update* (**Cell State**): cell state update based on masks $\\{f_t, i_t\\}$\n",
    "\n",
    "4. *Output Gate*: computes the final features representative for the current timestep. Roughly speking, this gate decides which elements from the cell state are going to the output at the current timestep."
   ]
  },
  {
   "cell_type": "markdown",
   "id": "b5d103ef",
   "metadata": {},
   "source": [
    "<div style=\"text-align: center;\">\n",
    "  <img src=\"imgs/lstm.png\" alt=\"description\" width=\"1000\"/>\n",
    "  <figcaption>Information flow in a LSTM cell, for a single timestep.</figcaption>\n",
    "</div>"
   ]
  },
  {
   "cell_type": "markdown",
   "id": "93f2d907-a8db-47a3-bdca-8dab5b74d902",
   "metadata": {},
   "source": [
    "### Other variants:\n",
    "- Bidirectional LSTM\n",
    "- [ConvLSTM](https://proceedings.neurips.cc/paper/2015/hash/07563a3fe3bbe7e3ba84431ad9d055af-Abstract.html)\n",
    "- [Self-Attention LSTM](https://ojs.aaai.org/index.php/AAAI/article/view/6819)"
   ]
  },
  {
   "cell_type": "markdown",
   "id": "8be96dec",
   "metadata": {},
   "source": [
    "---"
   ]
  },
  {
   "cell_type": "markdown",
   "id": "fe3fe951-89fe-4b88-a23d-93f91870a100",
   "metadata": {},
   "source": [
    "## *{Self, Cross}* - **Attention**"
   ]
  },
  {
   "cell_type": "markdown",
   "id": "d47d1211",
   "metadata": {},
   "source": [
    "Although not neccessarely related to recurrent stuff, **attention mechanisms** have been utilised in various domains in order to enforce the representational power through similarity matching strategies between different parts of input data."
   ]
  },
  {
   "cell_type": "markdown",
   "id": "10c7818d-dd4b-4c25-a4c9-bdeacd8f59bc",
   "metadata": {},
   "source": [
    "Neural machine translation has been among the first fields working with sequential data to benefit from [Self-Attention Mechanisms](https://arxiv.org/pdf/1409.0473), showing that using a fixed-length vector representation between an encoder and a deocder comes with a significant bottleneck. In contrast, self-attention allowed a model to automatically (soft-)search for parts of a source sentence relevant for predicting a target word."
   ]
  },
  {
   "cell_type": "markdown",
   "id": "1c8c9068-23ed-4074-8bf4-0ebc70571a43",
   "metadata": {},
   "source": [
    "The **multi-head self-attention** works as follows:\n",
    "\n",
    "1. For each head, the input sequential data $X\\in\\mathbb{R}^{T \\times D}$, with $T$ being the temporal dimension (or any multide of dimensions on which we can define some \"ordering\"), is linearly transformed into **query / key / value** tensors:\n",
    "$$Q_h \\gets X W_h^{Q}, \\quad K_h \\gets X W_h^{K}, \\quad V_h \\gets X W_h^{V}$$ \n",
    "$$W_h^{Q}, W_h^{K}, W_h^{V} \\in \\mathbb{R}^{D \\times D'}$$\n",
    "$$Q, K, V \\in \\mathbb{R}^{T\\times D'}$$\n",
    "$$h \\in \\{1, \\dots, n_{heads}\\}$$\n",
    "\n",
    "2. Similarity scores are computed between keys and queries *Softmax*:\n",
    "$$A_h \\gets \\text{\\texttt{softmax}}(Q_h K_h^T), \\quad A_h \\in [0, 1]^{T\\times T}$$\n",
    "\n",
    "3. These scores are used to mix the temporal entries of $V_h$, computing at each timestep a convex combination of the previous values:\n",
    "$$Z_h \\gets A_h V_h, \\quad Z_h \\in \\mathbb{R}^{T\\times D}$$\n",
    "\n",
    "4. All outputs $Z_h$ from each head $h$ are concatenated and multiplied by a final output matrix $W_o \\in \\mathbb{R}^{D' \\cdot n_{heads} \\times D}$, resulting the final features $Z$:\n",
    "$$Z \\gets \\big[Z_1 \\Vert Z_2 \\Vert \\dots \\Vert Z_{n_{heads}}\\big] W_o, \\quad Z \\in \\mathbb{R}^{T \\times D}$$"
   ]
  },
  {
   "cell_type": "markdown",
   "id": "49747722",
   "metadata": {},
   "source": [
    "<div style=\"text-align: center;\">\n",
    "  <img src=\"imgs/self_att.png\" alt=\"description\" width=\"1000\"/>\n",
    "  <figcaption><b>Left: </b>Computing Q, K, V. <b>Right: </b>Multi-head self-attention. Sub-images modified from <a href=\"https://jalammar.github.io/illustrated-transformer/\">here</a></figcaption>\n",
    "</div>"
   ]
  },
  {
   "cell_type": "markdown",
   "id": "44b305d5",
   "metadata": {},
   "source": [
    "(Multi-Head) **Cross-Attention** differs in that two temporal sources are analysed (not neccessarely having equal $T$), and between which attention scores $A_h$ are computed."
   ]
  },
  {
   "cell_type": "markdown",
   "id": "d94edc4f-c06e-4125-bada-eed1ab7d8331",
   "metadata": {},
   "source": [
    "Cross-Attention has been mostly used in multi-modal learning, computing similarities between encoded modalities in order to retrieve relevant responses. Most notably, [Contrastive Language-Image Pretraining](CLIP) combines text and images to create zero-shot classifiers. Another example is [CrossViT](https://openaccess.thecvf.com/content/ICCV2021/papers/Chen_CrossViT_Cross-Attention_Multi-Scale_Vision_Transformer_for_Image_Classification_ICCV_2021_paper.pdf) which attends to features resulted from two transformer encoders, merging them into a multi-scale representation."
   ]
  },
  {
   "cell_type": "markdown",
   "id": "47f17a68",
   "metadata": {},
   "source": [
    "---"
   ]
  },
  {
   "cell_type": "markdown",
   "id": "0f183d49-7c87-4f4c-83bd-923ed6bb500e",
   "metadata": {},
   "source": [
    "## **Movie review classification** <a class=\"anchor\" id=\"app-1\"></a>"
   ]
  },
  {
   "cell_type": "markdown",
   "id": "80933c31-4579-4fca-a5dd-da06a0fe93b7",
   "metadata": {},
   "source": [
    "We'll use `torchtext` package to download and prepare our data. "
   ]
  },
  {
   "cell_type": "code",
   "execution_count": 1,
   "id": "1e79fd83-9543-4c1b-a61c-4bc022c8d470",
   "metadata": {},
   "outputs": [
    {
     "data": {
      "text/plain": [
       "'2.0.1'"
      ]
     },
     "execution_count": 1,
     "metadata": {},
     "output_type": "execute_result"
    }
   ],
   "source": [
    "import torch\n",
    "torch.__version__"
   ]
  },
  {
   "cell_type": "markdown",
   "id": "23f25de1-52ac-4d27-a1c6-79657d373c8d",
   "metadata": {},
   "source": [
    "Install `torchtext` without overriding the current `torch` install. Take at look at [this table](https://pypi.org/project/torchtext/) and [these releases](https://github.com/pytorch/text/releases) to make sure you install the right `torchtext` version for your current `torch` installation. You'll also need `torchdata` - check out [its releases](https://github.com/pytorch/data/releases) to see which version you need. `poratlocker==2.8.2` is required, according to [this fix](https://github.com/pytorch/text/issues/2172#issuecomment-1808401332)."
   ]
  },
  {
   "cell_type": "code",
   "execution_count": 2,
   "id": "f62e9040-f771-47d1-b602-04367e9c94e8",
   "metadata": {},
   "outputs": [
    {
     "name": "stdout",
     "output_type": "stream",
     "text": [
      "Requirement already satisfied: torchtext==0.15.2 in /opt/anaconda3/envs/ia2/lib/python3.10/site-packages (0.15.2)\n",
      "Requirement already satisfied: torchdata==0.6.1 in /opt/anaconda3/envs/ia2/lib/python3.10/site-packages (0.6.1)\n",
      "Requirement already satisfied: tqdm in /opt/anaconda3/envs/ia2/lib/python3.10/site-packages (from torchtext==0.15.2) (4.67.1)\n",
      "Requirement already satisfied: requests in /opt/anaconda3/envs/ia2/lib/python3.10/site-packages (from torchtext==0.15.2) (2.32.3)\n",
      "Requirement already satisfied: torch==2.0.1 in /opt/anaconda3/envs/ia2/lib/python3.10/site-packages (from torchtext==0.15.2) (2.0.1)\n",
      "Requirement already satisfied: numpy in /opt/anaconda3/envs/ia2/lib/python3.10/site-packages (from torchtext==0.15.2) (1.24.0)\n",
      "Requirement already satisfied: urllib3>=1.25 in /opt/anaconda3/envs/ia2/lib/python3.10/site-packages (from torchdata==0.6.1) (2.4.0)\n",
      "Requirement already satisfied: filelock in /opt/anaconda3/envs/ia2/lib/python3.10/site-packages (from torch==2.0.1->torchtext==0.15.2) (3.18.0)\n",
      "Requirement already satisfied: typing-extensions in /opt/anaconda3/envs/ia2/lib/python3.10/site-packages (from torch==2.0.1->torchtext==0.15.2) (4.13.2)\n",
      "Requirement already satisfied: sympy in /opt/anaconda3/envs/ia2/lib/python3.10/site-packages (from torch==2.0.1->torchtext==0.15.2) (1.13.3)\n",
      "Requirement already satisfied: networkx in /opt/anaconda3/envs/ia2/lib/python3.10/site-packages (from torch==2.0.1->torchtext==0.15.2) (3.4.2)\n",
      "Requirement already satisfied: jinja2 in /opt/anaconda3/envs/ia2/lib/python3.10/site-packages (from torch==2.0.1->torchtext==0.15.2) (3.1.6)\n",
      "Requirement already satisfied: charset-normalizer<4,>=2 in /opt/anaconda3/envs/ia2/lib/python3.10/site-packages (from requests->torchtext==0.15.2) (3.4.1)\n",
      "Requirement already satisfied: idna<4,>=2.5 in /opt/anaconda3/envs/ia2/lib/python3.10/site-packages (from requests->torchtext==0.15.2) (3.10)\n",
      "Requirement already satisfied: certifi>=2017.4.17 in /opt/anaconda3/envs/ia2/lib/python3.10/site-packages (from requests->torchtext==0.15.2) (2025.1.31)\n",
      "Requirement already satisfied: MarkupSafe>=2.0 in /opt/anaconda3/envs/ia2/lib/python3.10/site-packages (from jinja2->torch==2.0.1->torchtext==0.15.2) (3.0.2)\n",
      "Requirement already satisfied: mpmath<1.4,>=1.1.0 in /opt/anaconda3/envs/ia2/lib/python3.10/site-packages (from sympy->torch==2.0.1->torchtext==0.15.2) (1.3.0)\n",
      "Requirement already satisfied: portalocker==2.8.2 in /opt/anaconda3/envs/ia2/lib/python3.10/site-packages (2.8.2)\n"
     ]
    }
   ],
   "source": [
    "!pip install torchtext==0.15.2 torchdata==0.6.1 \n",
    "!pip install portalocker==2.8.2"
   ]
  },
  {
   "cell_type": "markdown",
   "id": "a1e99c67",
   "metadata": {},
   "source": [
    "Load the **SST2** dataset, containing pairs of `sentence, {0, 1} labels`:"
   ]
  },
  {
   "cell_type": "code",
   "execution_count": 3,
   "id": "351fd54f-fb2e-4452-a346-999ee96983cf",
   "metadata": {},
   "outputs": [],
   "source": [
    "import torch\n",
    "import torchtext\n",
    "from torchtext.datasets import SST2\n",
    "\n",
    "train_ds = SST2(root=\"data/\", split=\"train\")\n",
    "test_ds = SST2(root=\"data/\", split=\"dev\")\n",
    "\n",
    "label_names = {\n",
    "    0: \"bad\",\n",
    "    1: \"good\"\n",
    "}"
   ]
  },
  {
   "cell_type": "code",
   "execution_count": 4,
   "id": "3d4c689f-e5f3-4175-b0b5-7d9dca0de9df",
   "metadata": {},
   "outputs": [
    {
     "name": "stdout",
     "output_type": "stream",
     "text": [
      "Class y=1 (good): it 's a charming and often affecting journey .\n",
      "Class y=0 (bad): unflinchingly bleak and desperate\n",
      "Class y=1 (good): allows us to hope that nolan is poised to embark a major career as a commercial yet inventive filmmaker .\n",
      "Class y=1 (good): the acting , costumes , music , cinematography and sound are all astounding given the production 's austere locales .\n",
      "Class y=0 (bad): it 's slow -- very , very slow .\n",
      "Class y=0 (bad): a sometimes tedious film .\n"
     ]
    }
   ],
   "source": [
    "seen_classes = {}\n",
    "max_per_class_samples = 3\n",
    "\n",
    "for sample in iter(test_ds):\n",
    "    x, y = sample\n",
    "\n",
    "    if y not in seen_classes.keys():\n",
    "        print(f\"Class y={y} ({label_names[y]}): {x}\")\n",
    "        seen_classes[y] = 1\n",
    "    else:\n",
    "        if seen_classes[y] < max_per_class_samples:\n",
    "            print(f\"Class y={y} ({label_names[y]}): {x}\")\n",
    "            seen_classes[y] += 1"
   ]
  },
  {
   "cell_type": "markdown",
   "id": "b0f5af4d-535f-44b1-8fb3-08a0493a7a44",
   "metadata": {},
   "source": [
    "## Sentence Pre-Processing"
   ]
  },
  {
   "cell_type": "markdown",
   "id": "7e54bcfd-9463-49e9-872c-633a08f1b3af",
   "metadata": {},
   "source": [
    "We'll pre-process each sequence in the following manner:\n",
    "$$\\text{Sentence} \\xrightarrow{\\text{Tokenizer}} [\\text{Words}] \\xrightarrow{Vocabulary} [\\text{Word Indexes}]$$\n",
    "For that, we'll need a basic english sentence (word) breaker, and a vocabulary to assigning an integer index to each unique word in our corpus."
   ]
  },
  {
   "cell_type": "code",
   "execution_count": 6,
   "id": "69a136e8-0401-45b6-95e4-490bcbac6b62",
   "metadata": {},
   "outputs": [],
   "source": [
    "from torchtext.data.utils import get_tokenizer\n",
    "from torchtext.vocab import build_vocab_from_iterator\n",
    "\n",
    "tokenizer = get_tokenizer(\"basic_english\")\n",
    "\n",
    "def yield_tokens(ds):\n",
    "    for text, y in ds:\n",
    "        yield tokenizer(text)\n",
    "\n",
    "vocab = build_vocab_from_iterator(yield_tokens(train_ds), specials=[\"<unk>\"])\n",
    "vocab.set_default_index(vocab[\"<unk>\"])"
   ]
  },
  {
   "cell_type": "code",
   "execution_count": 13,
   "id": "e62b7bea-3882-4564-8fe2-8296c59b127c",
   "metadata": {},
   "outputs": [
    {
     "name": "stdout",
     "output_type": "stream",
     "text": [
      "label-sentence: good \\ it 's a charming and often affecting journey .\n",
      "Tokenized sequence:  ['it', \"'\", 's', 'a', 'charming', 'and', 'often', 'affecting', 'journey', '.']\n",
      "Vocabulary indices for the tokenized sequence:  [13, 7, 9, 3, 296, 4, 144, 1411, 596, 6]\n"
     ]
    }
   ],
   "source": [
    "x, y = next(iter(test_ds))\n",
    "\n",
    "print(f\"label-sentence: {label_names[y]} \\ {x}\")\n",
    "print(\"Tokenized sequence: \", tokenizer(x))\n",
    "print(\"Vocabulary indices for the tokenized sequence: \", vocab(tokenizer(x)))"
   ]
  },
  {
   "cell_type": "markdown",
   "id": "7cfd132e",
   "metadata": {},
   "source": [
    "Since we cannot directly stack multiple tokenized sequences into a `(batch_size, n_words)` tensor of indices, we'll need to pad each sentence with `<unk>` characters until the largest n.o. words in a batch is reached.\n",
    "\n",
    "We'll do this by passing a custom `collate_fn` to the dataloaders, which will automatically perform this operation on each extracted batch of sentences."
   ]
  },
  {
   "cell_type": "code",
   "execution_count": 15,
   "id": "4c3bcf15-707b-471d-9192-9eb1c0e3ab0f",
   "metadata": {},
   "outputs": [
    {
     "name": "stdout",
     "output_type": "stream",
     "text": [
      "Using cpu\n"
     ]
    }
   ],
   "source": [
    "from torch.utils.data import DataLoader\n",
    "\n",
    "device = torch.device(\"cuda\" if torch.cuda.is_available() else \"cpu\")\n",
    "print(f\"Using {device}\")\n",
    "\n",
    "# This will be applied over each sentence -> just like the above example\n",
    "text_processor = lambda x: vocab(tokenizer(x)) \n",
    "label_processor = lambda y: int(y)\n",
    "\n",
    "# This will be applied over each extracted batch of sentences\n",
    "def collate_fn(batch):\n",
    "    label_list, text_list, length_list = [], [], []\n",
    "    for _text, _label in batch:\n",
    "        label_list.append(label_processor(_label))\n",
    "        processed_text = torch.LongTensor(text_processor(_text))\n",
    "        text_list.append(processed_text)\n",
    "        length_list.append(len(processed_text))\n",
    "    \n",
    "    label_list = torch.tensor(label_list, dtype=torch.int64)\n",
    "    text_list = torch.nn.utils.rnn.pad_sequence(text_list, batch_first=True, padding_value=vocab[\"<unk>\"]) # returns a (B, T_max) tensor of indices\n",
    "    length_list = torch.LongTensor(length_list)\n",
    "\n",
    "    # need to sort in descending order - s.t. the first element has the highest length in the batch\n",
    "    # this is useful for what will follow in the training phase\n",
    "    length_list, perm_idx = length_list.sort(0, descending=True)\n",
    "    text_list = text_list[perm_idx]\n",
    "    label_list = label_list[perm_idx]\n",
    "    \n",
    "    return text_list.to(device), label_list.to(device), length_list.to(device)\n",
    "\n",
    "train_loader = DataLoader(train_ds, batch_size=64, shuffle=True, collate_fn=collate_fn)\n",
    "test_loader = DataLoader(test_ds, batch_size=64, shuffle=False, collate_fn=collate_fn)"
   ]
  },
  {
   "cell_type": "code",
   "execution_count": 16,
   "id": "c5dc914f-ec6f-4011-8366-3bc46099d2d8",
   "metadata": {},
   "outputs": [
    {
     "name": "stdout",
     "output_type": "stream",
     "text": [
      "Batch size:  64\n",
      "Max size in batch:  35\n",
      "Batch tensor shape:  torch.Size([64, 35])\n",
      "All lenghts in batch:  tensor([35, 25, 25, 25, 21, 20, 19, 18, 18, 18, 17, 17, 16, 15, 13, 12, 11, 11,\n",
      "        10, 10, 10,  9,  8,  8,  8,  8,  8,  8,  7,  7,  7,  7,  6,  6,  6,  6,\n",
      "         5,  5,  5,  5,  5,  4,  4,  4,  4,  3,  3,  3,  3,  3,  3,  3,  3,  3,\n",
      "         3,  2,  2,  2,  2,  2,  1,  1,  1,  1])\n",
      "First 3 examples in batch:\n",
      "->  [  10    1  157    5   20  702   78   22  303    8 4480   68  457   25\n",
      "    1  634   12 1196    5   22    2   32   18 4507    2   32   18 3898\n",
      "    2   32   18  679 5348 1825    6]\n",
      "->  [  150  4723   173    35   233  5142    92     2    42  2907 12467   238\n",
      "     2    23    13     7     9   509    16   401   507     8   168    32\n",
      "    95     0     0     0     0     0     0     0     0     0     0]\n",
      "->  [  40  923   12    3 4301 6637    2 7732    3 1538    5 1020 5327 4975\n",
      "   25   36  131    2    4 1882 3623   22  116  550 7933    0    0    0\n",
      "    0    0    0    0    0    0    0]\n"
     ]
    }
   ],
   "source": [
    "for batch in train_loader:\n",
    "    x, y, lengths = batch\n",
    "\n",
    "    bs, max_size = x.shape[0], x.shape[1]\n",
    "\n",
    "    print(\"Batch size: \", bs)\n",
    "    print(\"Max size in batch: \", max_size)\n",
    "    print(\"Batch tensor shape: \", x.shape)\n",
    "    print(\"All lenghts in batch: \", lengths)\n",
    "\n",
    "    print(\"First 3 examples in batch:\")\n",
    "    for i in range(3):\n",
    "        print(\"-> \", x[i].cpu().numpy())\n",
    "    \n",
    "    break"
   ]
  },
  {
   "cell_type": "markdown",
   "id": "05c44a23-43e4-46bb-a752-6e7d78cb1a83",
   "metadata": {},
   "source": [
    "A `nn.Embedding` layer is used to convert these integer indexes into float tensor representations. An embedding layer works as a lookup table, mapping word indexes to real-valued tensors, which are optimized during training along with all the other parameters."
   ]
  },
  {
   "cell_type": "markdown",
   "id": "3eb9b0d5",
   "metadata": {},
   "source": [
    "<div style=\"text-align: center;\">\n",
    "  <img src=\"imgs/embedd.png\" alt=\"description\" width=\"800\"/>\n",
    "  <figcaption>Simplified diagram of sentence embedding.</figcaption>\n",
    "</div>"
   ]
  },
  {
   "cell_type": "code",
   "execution_count": 18,
   "id": "0fbf50a5-6eb9-4186-bf3d-f317f35ccb30",
   "metadata": {},
   "outputs": [
    {
     "name": "stdout",
     "output_type": "stream",
     "text": [
      "Batch \\ Seq.Len \\ Embedding dim: 64 \\ 35 \\ 50\n"
     ]
    }
   ],
   "source": [
    "import torch.nn as nn\n",
    "\n",
    "example_embedd = nn.Embedding(len(vocab), 50)\n",
    "embedded_x = example_embedd(x.cpu()) # computes the embedding separately and independently for each word (index)\n",
    "bs, seq, emb = embedded_x.shape\n",
    "print(f\"Batch \\ Seq.Len \\ Embedding dim: {bs} \\ {seq} \\ {emb}\")"
   ]
  },
  {
   "cell_type": "markdown",
   "id": "f8a2b4c9-f311-4059-a60d-ff5be362731e",
   "metadata": {},
   "source": [
    "## Build and Train Embeddings + LSTM"
   ]
  },
  {
   "cell_type": "markdown",
   "id": "8cac939a-0b98-4f92-b878-9cd5cba3dbce",
   "metadata": {},
   "source": [
    "In order to efficiently work with batches containing variable-length data (effective length) we'll need to `pad-pack` each batch s.t. a batch is presented to the LSTM as follows:"
   ]
  },
  {
   "cell_type": "markdown",
   "id": "78da3840",
   "metadata": {},
   "source": [
    "<div style=\"text-align: center;\">\n",
    "  <img src=\"imgs/pack_padded.png\" alt=\"description\" width=\"1200\"/>\n",
    "  <figcaption>Pack-padding strategy for training on variable-sized sentences.</figcaption>\n",
    "</div>"
   ]
  },
  {
   "cell_type": "code",
   "execution_count": 19,
   "id": "2115cdfc-7a7e-4bf9-b260-04c243293179",
   "metadata": {
    "editable": true,
    "slideshow": {
     "slide_type": ""
    },
    "tags": []
   },
   "outputs": [],
   "source": [
    "class RNNClassifier(nn.Module):\n",
    "    def __init__(self, vocab_size, embedd_size, num_layers, lstm_hidden_dim, n_classes, \n",
    "                 bidirectional=False, predict_on_output=True):\n",
    "        super(RNNClassifier, self).__init__()\n",
    "\n",
    "        self.embedd_size = embedd_size\n",
    "        self.embedding = nn.Embedding(vocab_size, embedd_size, padding_idx=0, scale_grad_by_freq=False,\n",
    "                                     max_norm=1.0) # this receives indices and returns float tensor representations\n",
    "\n",
    "        self.bidirectional = bidirectional\n",
    "        self.lstm = nn.LSTM(embedd_size, lstm_hidden_dim, \n",
    "                            dropout=0., num_layers=num_layers, batch_first=True, bidirectional=bidirectional)\n",
    "\n",
    "        # We can choose between predicting on the output tensor, or on the hidden state\n",
    "        if predict_on_output:\n",
    "            if bidirectional:\n",
    "                # In the bidirectional case, we'll have two two outputs - one for ->, another for <-\n",
    "                self.out_dim = lstm_hidden_dim * 2\n",
    "            else:\n",
    "                self.out_dim = lstm_hidden_dim\n",
    "        else:\n",
    "            # predict on the concatenation of last hidden states, from each layer\n",
    "            if bidirectional:\n",
    "                self.out_dim = lstm_hidden_dim * num_layers * 2\n",
    "            else:\n",
    "                self.out_dim = lstm_hidden_dim * num_layers\n",
    "\n",
    "        self.out_classification = nn.Sequential(\n",
    "            nn.Linear(self.out_dim, n_classes) \n",
    "        )\n",
    "        \n",
    "        self.predict_on_output = predict_on_output\n",
    "        self.num_layers = num_layers\n",
    "    \n",
    "    def forward(self, x, lengths):\n",
    "        embeddings = self.embedding(x)\n",
    "        \n",
    "        # need to pack-padd embeddings, in order to exclude padded values from computation in LSTM\n",
    "        embeddings_ = torch.nn.utils.rnn.pack_padded_sequence(embeddings, lengths.cpu().numpy(), batch_first=True).to(device)\n",
    "\n",
    "        # hidden and cell states will be returned for each LSTM layer - (num_layers, batch_size, lstm_hidden_dim)\n",
    "        out, (hidden_state, cell_state) = self.lstm(embeddings_)\n",
    "\n",
    "        # unpack padded output sequence\n",
    "        out_, lens_unpacked  = torch.nn.utils.rnn.pad_packed_sequence(out, batch_first=True)\n",
    "\n",
    "        if self.predict_on_output:\n",
    "            # take the output for each element in the batch, at the index of len_sequence - 1 (last word)\n",
    "            preds = self.out_classification(\n",
    "                        torch.gather(\n",
    "                            out_, dim=1, \n",
    "                            index=(lens_unpacked - 1).view(-1, 1).unsqueeze(2).expand(-1, -1, out_.size(-1)).to(out_.device)\n",
    "                        ).squeeze()\n",
    "                    )\n",
    "        else:\n",
    "            # Classify on the concatenation of hidden_states from each layer\n",
    "            preds = self.out_classification(\n",
    "                        torch.cat([hidden_state[i] for i in range(self.num_layers)], dim=1)\n",
    "                    )  \n",
    "        \n",
    "        return preds"
   ]
  },
  {
   "cell_type": "markdown",
   "id": "69326378",
   "metadata": {},
   "source": [
    "Define hyperparameters:"
   ]
  },
  {
   "cell_type": "code",
   "execution_count": 20,
   "id": "21fdff4e",
   "metadata": {},
   "outputs": [],
   "source": [
    "embedd_size = 50\n",
    "num_layers = 2\n",
    "lstm_hidden_dim = 32\n",
    "bidirectional = False\n",
    "predict_on_output = True\n",
    "n_classes = 2\n",
    "\n",
    "epochs = 5\n",
    "lr = 1e-3\n",
    "l2 = 0"
   ]
  },
  {
   "cell_type": "code",
   "execution_count": 23,
   "id": "0f4e851a-bb58-4034-86c8-e8892c5bc480",
   "metadata": {},
   "outputs": [
    {
     "name": "stdout",
     "output_type": "stream",
     "text": [
      "Model output shape:  torch.Size([64, 2])\n"
     ]
    }
   ],
   "source": [
    "model = RNNClassifier(len(vocab), \n",
    "                      embedd_size, \n",
    "                      num_layers, \n",
    "                      lstm_hidden_dim, \n",
    "                      n_classes,\n",
    "                      bidirectional=bidirectional,\n",
    "                      predict_on_output=predict_on_output).to(device)\n",
    "\n",
    "criterion = nn.CrossEntropyLoss()\n",
    "optimizer = torch.optim.Adam(model.parameters(), lr=lr, weight_decay=l2)\n",
    "\n",
    "folder_path = \"models/sst2/\"\n",
    "file_name = \"model.pth\"\n",
    "\n",
    "print(\"Model output shape: \", model(x, lengths).shape)"
   ]
  },
  {
   "cell_type": "markdown",
   "id": "e25b11ee",
   "metadata": {},
   "source": [
    "After training, you'll observe some overfitting - you can play with $\\ell_2$-regularization, but be careful not to assign a too big weighting factor, otherwise it will not learn at all."
   ]
  },
  {
   "cell_type": "code",
   "execution_count": 24,
   "id": "37b45638-435c-4668-b14f-c6b424cefcf2",
   "metadata": {},
   "outputs": [
    {
     "name": "stderr",
     "output_type": "stream",
     "text": [
      "0it [00:00, ?it/s]/opt/anaconda3/envs/ia2/lib/python3.10/site-packages/torch/utils/data/datapipes/iter/combining.py:297: UserWarning: Some child DataPipes are not exhausted when __iter__ is called. We are resetting the buffer and each child DataPipe will read from the start again.\n",
      "  warnings.warn(\"Some child DataPipes are not exhausted when __iter__ is called. We are resetting \"\n",
      "1053it [00:15, 69.57it/s]\n",
      "14it [00:00, 119.76it/s]\n"
     ]
    },
    {
     "name": "stdout",
     "output_type": "stream",
     "text": [
      "Epoch 1/5: train_loss=0.21116176960460933 train_acc=0.9201918365528813 test_loss=0.466987030846732 test_acc=0.823394495412844\n"
     ]
    },
    {
     "name": "stderr",
     "output_type": "stream",
     "text": [
      "1053it [00:15, 67.53it/s]\n",
      "14it [00:00, 122.89it/s]\n"
     ]
    },
    {
     "name": "stdout",
     "output_type": "stream",
     "text": [
      "Epoch 2/5: train_loss=0.17473907431928973 train_acc=0.9344756418061144 test_loss=0.5304145451102938 test_acc=0.8222477064220184\n"
     ]
    },
    {
     "name": "stderr",
     "output_type": "stream",
     "text": [
      "1053it [00:15, 69.56it/s]\n",
      "14it [00:00, 127.44it/s]\n"
     ]
    },
    {
     "name": "stdout",
     "output_type": "stream",
     "text": [
      "Epoch 3/5: train_loss=0.14936892355014797 train_acc=0.9441862536934476 test_loss=0.5338231261287417 test_acc=0.823394495412844\n"
     ]
    },
    {
     "name": "stderr",
     "output_type": "stream",
     "text": [
      "1053it [00:15, 69.47it/s]\n",
      "14it [00:00, 128.86it/s]\n"
     ]
    },
    {
     "name": "stdout",
     "output_type": "stream",
     "text": [
      "Epoch 4/5: train_loss=0.12984908288141317 train_acc=0.950511514647582 test_loss=0.6557638453585761 test_acc=0.8165137614678899\n"
     ]
    },
    {
     "name": "stderr",
     "output_type": "stream",
     "text": [
      "1053it [00:15, 68.14it/s]\n",
      "14it [00:00, 126.97it/s]"
     ]
    },
    {
     "name": "stdout",
     "output_type": "stream",
     "text": [
      "Epoch 5/5: train_loss=0.11394708342885586 train_acc=0.956228006354957 test_loss=0.7081157394817897 test_acc=0.8119266055045872\n"
     ]
    },
    {
     "name": "stderr",
     "output_type": "stream",
     "text": [
      "\n"
     ]
    }
   ],
   "source": [
    "import importlib\n",
    "import torch_utils\n",
    "importlib.reload(torch_utils)\n",
    "\n",
    "train_losses, test_losses = torch_utils.train_loop(\n",
    "    model, train_loader, optimizer, criterion, epochs, \n",
    "    test_loader=test_loader, \n",
    "    device=device, \n",
    "    folder_path=folder_path, \n",
    "    file_name=file_name\n",
    ")"
   ]
  },
  {
   "cell_type": "code",
   "execution_count": 25,
   "id": "7fea1360-2d9d-45fe-a7d4-12a620e690ff",
   "metadata": {
    "editable": true,
    "slideshow": {
     "slide_type": ""
    },
    "tags": []
   },
   "outputs": [
    {
     "data": {
      "application/vnd.jupyter.widget-view+json": {
       "model_id": "8c913e66a08544ef946fc38fced1344a",
       "version_major": 2,
       "version_minor": 0
      },
      "text/plain": [
       "Text(value='', description='Input:', layout=Layout(width='1000px'), placeholder='Type here...')"
      ]
     },
     "metadata": {},
     "output_type": "display_data"
    },
    {
     "data": {
      "application/vnd.jupyter.widget-view+json": {
       "model_id": "09caa8f0dd214982a6b7ede057efece6",
       "version_major": 2,
       "version_minor": 0
      },
      "text/plain": [
       "Output()"
      ]
     },
     "metadata": {},
     "output_type": "display_data"
    }
   ],
   "source": [
    "import os\n",
    "import ipywidgets as widgets\n",
    "from IPython.display import display, clear_output\n",
    "\n",
    "model.load_state_dict(\n",
    "    torch.load(os.path.join(folder_path, file_name))[\"state_dict\"]\n",
    ")\n",
    "\n",
    "input_text = widgets.Text(placeholder='Type here...', description='Input:', layout = widgets.Layout(width='1000px'))\n",
    "output_text = widgets.Output()\n",
    "\n",
    "def predict_and_update(change):\n",
    "    with output_text:\n",
    "        if len(change.new) > 0:\n",
    "            clear_output()\n",
    "            sentence = change.new\n",
    "            length = len(tokenizer(sentence))\n",
    "            tokens = torch.LongTensor(text_processor(sentence))[None, ...].to(device)\n",
    "            length = torch.LongTensor([length]).to(device)\n",
    "            \n",
    "            print('Prediction:', label_names[model(tokens, length).argmax().item()])\n",
    "\n",
    "input_text.observe(predict_and_update, names='value')\n",
    "\n",
    "display(input_text)\n",
    "display(output_text)"
   ]
  },
  {
   "cell_type": "markdown",
   "id": "5f013636-60a7-4d68-abdf-0e99454fe2a8",
   "metadata": {},
   "source": [
    "### Analysing word embeddings"
   ]
  },
  {
   "cell_type": "markdown",
   "id": "6bec0b5d-79bf-492e-8501-7937c3fcf9ca",
   "metadata": {},
   "source": [
    "The `nn.Embedding` layer has optimized a $W \\in \\mathbb{R}^{|\\texttt{Vocab}| \\times \\texttt{embedd\\_size}}$ matrix containing representations for each word in our vocabulary. We can compute distances between the embedding of a word and each entry in the matrix to get the most similar or least similar words."
   ]
  },
  {
   "cell_type": "code",
   "execution_count": 26,
   "id": "2f8f7e88-b128-492c-b65d-22419d60323c",
   "metadata": {},
   "outputs": [],
   "source": [
    "def get_top_k(k, emb_word, vocab, embeddings, device, most_similar=True, distance=\"l2\", lookup_token=None, return_res=False):\n",
    "    if distance == \"l2\":\n",
    "        distances = torch.norm(embeddings - emb_word, p=2, dim=1)\n",
    "    elif distance == \"cosine\":\n",
    "        distances = 1 - torch.nn.functional.cosine_similarity(emb_word, embeddings, dim=1)\n",
    "    else:\n",
    "        raise ValueError(f\"Unknown distance {distance}.\")\n",
    "    \n",
    "    idx_sorted = torch.argsort(distances)\n",
    "\n",
    "    if most_similar:\n",
    "        if return_res:\n",
    "            if lookup_token:\n",
    "                return [lookup_token(idx_sorted[i + 1]) for i in range(k)]\n",
    "            else:\n",
    "                return [vocab.lookup_token(idx_sorted[i + 1]) for i in range(k)]\n",
    "        else:\n",
    "            print(f\"Top k similar ({distance}): \", end=\" \")\n",
    "            for i in range(k):\n",
    "                if lookup_token:\n",
    "                    print(lookup_token(idx_sorted[i + 1]), end=\", \")\n",
    "                else:\n",
    "                    print(vocab.lookup_token(idx_sorted[i + 1]), end=\", \") # if i == 0, it would return that actual word\n",
    "            print(\"\\n\")\n",
    "    else:\n",
    "        if return_res:\n",
    "            if lookup_token:\n",
    "                return [lookup_token(idx_sorted[-(i + 1)]) for i in range(k)]\n",
    "            else:\n",
    "                return [vocab.lookup_token(idx_sorted[-(i + 1)]) for i in range(k)]\n",
    "        else:\n",
    "            print(f\"Top k disimilar ({distance}): \", end=\" \")\n",
    "            for i in range(k):\n",
    "                if lookup_token:\n",
    "                    print(lookup_token(idx_sorted[-(i + 1)]), end=\", \") \n",
    "                else:\n",
    "                    print(vocab.lookup_token(idx_sorted[-(i + 1)]), end=\", \") # if i == 0, it would return that actual word    \n",
    "            print(\"\\n\")"
   ]
  },
  {
   "cell_type": "code",
   "execution_count": 27,
   "id": "3a073afb-94c7-421e-bf01-ef92811cfea8",
   "metadata": {},
   "outputs": [
    {
     "name": "stdout",
     "output_type": "stream",
     "text": [
      "Top k similar (l2):  inhale, virulent, meanspirited, flag, sitcom-worthy, \n",
      "\n",
      "Top k disimilar (l2):  brush, compulsively, forceful, sublime, head-turner, \n",
      "\n",
      "Top k similar (cosine):  plain, soliloquies, vulgar, market, kirkegaard, \n",
      "\n",
      "Top k disimilar (cosine):  rewarded, superb, unflinching, definitely, department, \n",
      "\n"
     ]
    }
   ],
   "source": [
    "word = \"desperate\"\n",
    "idx_word = vocab[word]\n",
    "emb_word = model.embedding(torch.LongTensor([idx_word]).to(device))\n",
    "k = 5\n",
    "\n",
    "get_top_k(k, emb_word, vocab, model.embedding.weight, device)\n",
    "get_top_k(k, emb_word, vocab, model.embedding.weight, device, most_similar=False)\n",
    "get_top_k(k, emb_word, vocab, model.embedding.weight, device, distance=\"cosine\")\n",
    "get_top_k(k, emb_word, vocab, model.embedding.weight, device, most_similar=False, distance=\"cosine\")"
   ]
  },
  {
   "cell_type": "code",
   "execution_count": 29,
   "id": "e6a8b671-f4de-4ae5-9bca-ebe577110a0b",
   "metadata": {
    "editable": true,
    "slideshow": {
     "slide_type": ""
    },
    "tags": []
   },
   "outputs": [
    {
     "name": "stdout",
     "output_type": "stream",
     "text": [
      "LOVE is to ROMANCE as HATE is to ['MISSED', 'BAD', 'WINDS']\n",
      "KILLING is to ACTION as LAUGHING is to ['SINCE', 'ATTRACTIVE', 'THROUGHOUT']\n",
      "MAN is to CHEF as WOMAN is to ['LITTLE-REMEMBERED', 'WHY', 'ANOTHER']\n",
      "MAN is to DOCTOR as WOMAN is to ['CONVENIENCE', 'FLUX', 'JOSE']\n"
     ]
    }
   ],
   "source": [
    "analogies_to_explore = [\n",
    "    (\"love\", \"romance\", \"hate\"),\n",
    "    (\"killing\", \"action\", \"laughing\"),\n",
    "    (\"man\", \"chef\", \"woman\"),  \n",
    "    (\"man\", \"doctor\", \"woman\")\n",
    "]\n",
    "\n",
    "for analogy in analogies_to_explore:\n",
    "    word_a, word_b, word_c = analogy\n",
    "    idx_word_a, idx_word_b, idx_word_c = vocab[word_a], vocab[word_b], vocab[word_c]\n",
    "    \n",
    "    emb_word_a = model.embedding(torch.LongTensor([idx_word_a]).to(device))\n",
    "    emb_word_b = model.embedding(torch.LongTensor([idx_word_b]).to(device))\n",
    "    emb_word_c = model.embedding(torch.LongTensor([idx_word_c]).to(device))\n",
    "\n",
    "    new_embed = emb_word_b - emb_word_a + emb_word_c\n",
    "    \n",
    "    result = get_top_k(3, new_embed, vocab, model.embedding.weight, device, distance=\"cosine\", return_res=True)\n",
    "    result = list(map(str.upper, result))\n",
    "    \n",
    "    if result:\n",
    "        print(f\"{word_a.upper()} is to {word_b.upper()} as {word_c.upper()} is to {result}\")\n",
    "    else:\n",
    "        print(\"Some words in the analogy are not in the vocabulary.\")"
   ]
  },
  {
   "cell_type": "markdown",
   "id": "2ec8ba05",
   "metadata": {},
   "source": [
    "Things that have affected the quality of the above results:\n",
    "- Vocabulary was too simple - only words and phrases related to a single subject (i.e. movie reviews)\n",
    "- The classification task is not too broad - it doesn't help that much in learning meaningful relationships between embeddings "
   ]
  },
  {
   "cell_type": "markdown",
   "id": "724030da-76d5-402a-b7e8-622fe3b18aa9",
   "metadata": {},
   "source": [
    "### Compare with [GloVe](https://nlp.stanford.edu/pubs/glove.pdf) embeddings"
   ]
  },
  {
   "cell_type": "markdown",
   "id": "63055b7f",
   "metadata": {},
   "source": [
    "[Global Vectors for Word Representation](https://nlp.stanford.edu/projects/glove/) is an algorithm for learning vector representations, just like jointly training a `nn.Embedding`layer along with other sub-modules in a given task."
   ]
  },
  {
   "cell_type": "code",
   "execution_count": 30,
   "id": "8e286c19-1ffc-437d-bf7e-4c01249c9d9e",
   "metadata": {},
   "outputs": [
    {
     "name": "stdout",
     "output_type": "stream",
     "text": [
      "Top k similar (l2):  desperately, vain, wanting, trouble, weary, \n",
      "\n",
      "Top k disimilar (l2):  non-families, 202-383-7824, 20003, www.star, officership, \n",
      "\n",
      "Top k similar (cosine):  desperately, trouble, wanting, vain, weary, \n",
      "\n",
      "Top k disimilar (cosine):  landolt, preus, icct, yisheng, daojiong, \n",
      "\n"
     ]
    }
   ],
   "source": [
    "glove = torchtext.vocab.GloVe(name=\"6B\", dim=50)\n",
    "\n",
    "word = \"desperate\"\n",
    "emb_word = glove[word]\n",
    "k = 5\n",
    "\n",
    "get_top_k(k, emb_word, None, glove.vectors, device, lookup_token=lambda idx: glove.itos[idx])\n",
    "get_top_k(k, emb_word, None, glove.vectors, device, most_similar=False, lookup_token=lambda idx: glove.itos[idx])\n",
    "get_top_k(k, emb_word, None, glove.vectors, device, distance=\"cosine\", lookup_token=lambda idx: glove.itos[idx])\n",
    "get_top_k(k, emb_word, None, glove.vectors, device, most_similar=False, distance=\"cosine\", lookup_token=lambda idx: glove.itos[idx])"
   ]
  },
  {
   "cell_type": "code",
   "execution_count": 31,
   "id": "de510817-2b49-4111-9efa-d3f807a8b0ca",
   "metadata": {},
   "outputs": [
    {
     "name": "stdout",
     "output_type": "stream",
     "text": [
      "LOVE is to ROMANCE as HATE is to ['STEREOTYPING', 'HATE', 'MONGERING']\n",
      "KILLING is to ACTION as LAUGHING is to ['LAUGHING', 'BIT', 'TUNE']\n",
      "MAN is to CHEF as WOMAN is to ['WAITRESS', 'DECORATOR', 'STYLIST']\n",
      "MAN is to DOCTOR as WOMAN is to ['NURSE', 'CHILD', 'WOMAN']\n"
     ]
    }
   ],
   "source": [
    "for analogy in analogies_to_explore:\n",
    "    word_a, word_b, word_c = analogy\n",
    "    emb_word_a = glove[word_a]\n",
    "    emb_word_b = glove[word_b]\n",
    "    emb_word_c = glove[word_c]\n",
    "\n",
    "    new_embed = emb_word_b - emb_word_a + emb_word_c\n",
    "    \n",
    "    result = get_top_k(3, new_embed, None, glove.vectors, device, distance=\"cosine\", return_res=True, lookup_token=lambda idx: glove.itos[idx])\n",
    "    result = list(map(str.upper, result))\n",
    "    \n",
    "    if result:\n",
    "        print(f\"{word_a.upper()} is to {word_b.upper()} as {word_c.upper()} is to {result}\")\n",
    "    else:\n",
    "        print(\"Some words in the analogy are not in the vocabulary.\")"
   ]
  },
  {
   "cell_type": "markdown",
   "id": "12300cc4-cdd5-460c-bc5d-bc7b7b2f1fdc",
   "metadata": {},
   "source": [
    "We see that these embeddings perform much better, while also revealing some gender bias."
   ]
  },
  {
   "cell_type": "markdown",
   "id": "ced70604",
   "metadata": {},
   "source": [
    "---"
   ]
  },
  {
   "cell_type": "markdown",
   "id": "9ed45b24-cb51-4938-ab39-2eb9a1ba1512",
   "metadata": {},
   "source": [
    "## **Forecasting with Seq2Seq** <a class=\"anchor\" id=\"app-2\"></a>"
   ]
  },
  {
   "cell_type": "markdown",
   "id": "4563ddc3-5028-4d2c-b184-6aa848eac1e8",
   "metadata": {},
   "source": [
    "We'll be using the [Seq2Seq](https://arxiv.org/pdf/1409.3215) architecture (also known as \"Sutskever model\") to predict the next frames from [Moving MNIST dataset](https://paperswithcode.com/dataset/moving-mnist). Seq2Seq models have been used for sequence-to-sequence translation (hence the name), mostly in LanguageA-to-LanguageB tasks. Check out [this tutorial notebook](https://github.com/bentrevett/pytorch-seq2seq/blob/main/1%20-%20Sequence%20to%20Sequence%20Learning%20with%20Neural%20Networks.ipynb) on german-to-english translation.\n",
    "\n",
    "We'll adapt the Seq2Seq architecture to work on 2D data (frames) instead of tokens, by utilizing a $2D \\rightarrow 1D$ **encoder** that will process all input frames independently, followed by a LSTM network to model the sequence of temporal features, and a final $1D \\rightarrow 2D$ **decoder** that will translate the predicted 1D features to 2D future frames.\n",
    "\n",
    "Check out [these nice visuals](https://lena-voita.github.io/nlp_course/seq2seq_and_attention.html) on how Seq2Seq works (including adding attention)."
   ]
  },
  {
   "cell_type": "code",
   "execution_count": 32,
   "id": "05d30316-2d8a-4dc4-b68c-87aea1057e0f",
   "metadata": {},
   "outputs": [
    {
     "name": "stdout",
     "output_type": "stream",
     "text": [
      "Downloading http://www.cs.toronto.edu/~nitish/unsupervised_video/mnist_test_seq.npy to data/MovingMNIST/mnist_test_seq.npy\n"
     ]
    },
    {
     "name": "stderr",
     "output_type": "stream",
     "text": [
      "100%|██████████| 819200096/819200096 [02:27<00:00, 5544025.59it/s]\n"
     ]
    }
   ],
   "source": [
    "from torchvision.datasets import MovingMNIST\n",
    "\n",
    "split_ratio = 10\n",
    "\n",
    "transform = lambda x: x / 255.0\n",
    "\n",
    "first_frames = MovingMNIST(root=\"data/\", split=\"train\", download=True, split_ratio=split_ratio, transform=transform)\n",
    "last_frames = MovingMNIST(root=\"data/\", split=\"test\", download=True, split_ratio=split_ratio, transform=transform)"
   ]
  },
  {
   "cell_type": "markdown",
   "id": "2fd90fb4-746b-445a-8ce0-60da63429eb7",
   "metadata": {},
   "source": [
    "We'll be using the first 10 frames as input, and our task is to predict the following 10 frames."
   ]
  },
  {
   "cell_type": "code",
   "execution_count": 36,
   "id": "5953c338-c446-49f5-a85b-a08f686682df",
   "metadata": {},
   "outputs": [
    {
     "name": "stdout",
     "output_type": "stream",
     "text": [
      "Shape of first frames (known):  torch.Size([16, 10, 1, 64, 64])\n",
      "Shape of last frames (unknown):  torch.Size([16, 10, 1, 64, 64])\n",
      "Value range: [0.0, 1.0]\n"
     ]
    }
   ],
   "source": [
    "bs_ = 16\n",
    "\n",
    "print(\"Shape of first frames (known): \", first_frames[:bs_].shape)\n",
    "print(\"Shape of last frames (unknown): \", last_frames[:bs_].shape)\n",
    "print(f\"Value range: [{first_frames[:bs_].min()}, {first_frames[:bs_].max()}]\")"
   ]
  },
  {
   "cell_type": "code",
   "execution_count": 37,
   "id": "8859ad06-0dda-4d74-88d3-c25dfe1fba96",
   "metadata": {},
   "outputs": [
    {
     "data": {
      "application/vnd.jupyter.widget-view+json": {
       "model_id": "08df0f292d8c4f088193e8aad1efea7c",
       "version_major": 2,
       "version_minor": 0
      },
      "text/plain": [
       "interactive(children=(IntSlider(value=0, description='Frame', max=19), Output()), _dom_classes=('widget-intera…"
      ]
     },
     "metadata": {},
     "output_type": "display_data"
    },
    {
     "data": {
      "text/plain": [
       "<function __main__.display_frame(frame_number)>"
      ]
     },
     "execution_count": 37,
     "metadata": {},
     "output_type": "execute_result"
    }
   ],
   "source": [
    "import matplotlib.pyplot as plt\n",
    "from ipywidgets import interact, IntSlider\n",
    "import ipywidgets as widgets\n",
    "from IPython.display import display\n",
    "import numpy as np\n",
    "\n",
    "i = np.random.randint(0, len(first_frames))\n",
    "all_frames = np.concatenate((first_frames[i], last_frames[i]), axis=0)\n",
    "\n",
    "def display_frame(frame_number):\n",
    "    plt.imshow(all_frames[frame_number].squeeze(), cmap=\"gray\")\n",
    "    plt.axis('off')\n",
    "    plt.show()\n",
    "\n",
    "frame_slider = widgets.IntSlider(min=0, max=all_frames.shape[0] - 1, step=1, description='Frame')\n",
    "widgets.interact(display_frame, frame_number=frame_slider)"
   ]
  },
  {
   "cell_type": "markdown",
   "id": "220f7a23-214e-4002-a4b6-eee1abd772a3",
   "metadata": {},
   "source": [
    "### Split and Create train/test loaders"
   ]
  },
  {
   "cell_type": "code",
   "execution_count": 39,
   "id": "cac11fee-a499-4c20-8c2a-88b509b434ba",
   "metadata": {},
   "outputs": [],
   "source": [
    "from sklearn.model_selection import train_test_split\n",
    "from torch.utils.data import Subset, Dataset, DataLoader\n",
    "\n",
    "class CustomMMNIST(Dataset):\n",
    "    def __init__(self, first_fs, last_fs):\n",
    "        self.first_ = first_fs\n",
    "        self.last_ = last_fs\n",
    "\n",
    "        assert len(self.first_) == len(self.last_)\n",
    "    \n",
    "    def __len__(self):\n",
    "        return len(self.first_)\n",
    "\n",
    "    def __getitem__(self, idx):\n",
    "        return self.first_[idx], self.last_[idx]\n",
    "\n",
    "indexes = list(range(len(first_frames)))\n",
    "train_idx, test_idx = train_test_split(indexes, test_size=0.2, random_state=42)  \n",
    "\n",
    "first_train, first_test = Subset(first_frames, train_idx), Subset(first_frames, test_idx)\n",
    "last_train, last_test = Subset(last_frames, train_idx), Subset(last_frames, test_idx)\n",
    "\n",
    "train_mnist = CustomMMNIST(first_train, last_train)\n",
    "test_mnist = CustomMMNIST(first_test, last_test)\n",
    "\n",
    "train_loader = DataLoader(train_mnist, batch_size=32, shuffle=True)\n",
    "test_loader = DataLoader(test_mnist, batch_size=32, shuffle=False)"
   ]
  },
  {
   "cell_type": "code",
   "execution_count": 40,
   "id": "461c25fa-4b91-4608-bec4-7c11b8032195",
   "metadata": {},
   "outputs": [
    {
     "data": {
      "text/plain": [
       "(8000, 2000)"
      ]
     },
     "execution_count": 40,
     "metadata": {},
     "output_type": "execute_result"
    }
   ],
   "source": [
    "len(train_mnist), len(test_mnist)"
   ]
  },
  {
   "cell_type": "markdown",
   "id": "c463832f-e09d-43cf-9940-c87bc4900b06",
   "metadata": {},
   "source": [
    "### Construct Seq2Seq model"
   ]
  },
  {
   "cell_type": "markdown",
   "id": "0d1b807d-f145-4edd-8cd3-df8a81985236",
   "metadata": {},
   "source": [
    "The usual architecture of Seq2Seq is depicted as follows:"
   ]
  },
  {
   "cell_type": "markdown",
   "id": "164ef791",
   "metadata": {},
   "source": [
    "<div style=\"text-align: center;\">\n",
    "  <img src=\"imgs/seq2seq.png\" alt=\"description\" width=\"1200\"/>\n",
    "  <figcaption>Seq2Seq architecture. <a href=\"https://blog.suriya.app/2016-12-31-practical-seq2seq/\">Source</a></figcaption>\n",
    "</div>"
   ]
  },
  {
   "cell_type": "markdown",
   "id": "6352bd3d-af18-4642-b3d7-e14dd4afa24c",
   "metadata": {},
   "source": [
    "We have an RNN encoder that processes the input sequence, followed by another RNN decoder that receives the final states of the encoder and generates the output sequence, element-by-element, using the previously generated output as input."
   ]
  },
  {
   "cell_type": "markdown",
   "id": "2f4ae44a-eafb-40ac-bbbe-c178e81c6332",
   "metadata": {},
   "source": [
    "Before diving into Seq2Seq, we need to define an image encoder that will transform each frame into a feature vector, to be passed to the RNN:\n",
    "\n",
    "$$\\texttt{Frame}_i \\rightarrow \\texttt{ImageEncoder}(\\cdot) \\rightarrow \\texttt{Feature Vector}_i \\rightarrow \\texttt{Seq2Seq}(\\cdot) \\rightarrow \\texttt{ImageDecoder}(\\cdot) \\rightarrow \\texttt{Frame}_{i+1} $$"
   ]
  },
  {
   "cell_type": "code",
   "execution_count": 41,
   "id": "0f584de8-2d39-4db0-994d-117817d44cd9",
   "metadata": {},
   "outputs": [],
   "source": [
    "import torch.nn as nn\n",
    "\n",
    "class ImageEncoder(nn.Module):\n",
    "    def __init__(self, in_ch, out_ch):\n",
    "        super(ImageEncoder, self).__init__()\n",
    "    \n",
    "        self.net = nn.Sequential(\n",
    "            nn.Conv2d(in_ch, 8, 3, 1, 1),\n",
    "            nn.ReLU(),\n",
    "            nn.Conv2d(8, 16, 4, 4, 0),\n",
    "            nn.BatchNorm2d(16),\n",
    "            nn.ReLU(),\n",
    "            nn.Conv2d(16, 32, 3, 1, 1),\n",
    "            nn.BatchNorm2d(32),\n",
    "            nn.ReLU(),\n",
    "            nn.Conv2d(32, 32, 4, 4, 0),\n",
    "            nn.BatchNorm2d(32),\n",
    "            nn.Conv2d(32, out_ch, 3, 1, 1),\n",
    "            nn.BatchNorm2d(out_ch),\n",
    "            nn.ReLU(),\n",
    "            nn.Conv2d(out_ch, out_ch, 4, 4, 0)\n",
    "        )\n",
    "\n",
    "    def forward(self, frames):\n",
    "        \"\"\"\n",
    "        Frames has shape (B', C, H, W), where B' = B * n_frames represents the \"extended batch size\"\n",
    "        \"\"\"\n",
    "        return self.net(frames)"
   ]
  },
  {
   "cell_type": "markdown",
   "id": "a061836a-4ce8-4711-9f08-e6df5bb25e3b",
   "metadata": {},
   "source": [
    "We construct a simple Conv2d encoder, that succesively downsaples the input $64\\times 64$ image into a 1D fature vector with `out_ch` elements. Note that the above architecture is exclusively built for $64\\times 64$ images, with higher resolutions not being reduced to a 1D vector."
   ]
  },
  {
   "cell_type": "code",
   "execution_count": 42,
   "id": "13430058-20d8-4707-8dd0-4e22939347e5",
   "metadata": {},
   "outputs": [
    {
     "name": "stdout",
     "output_type": "stream",
     "text": [
      "Original input:  torch.Size([32, 10, 1, 64, 64])\n",
      "Rearranged input:  torch.Size([320, 1, 64, 64])\n",
      "Original output:  torch.Size([320, 128, 1, 1])\n",
      "Rearranged output:  torch.Size([32, 10, 128])\n"
     ]
    }
   ],
   "source": [
    "import einops\n",
    "\n",
    "x, y = train_mnist[:32]\n",
    "bs, t, _, _, _ = x.shape\n",
    "\n",
    "x_ = einops.rearrange(x, \"d1 d2 d3 d4 d5 -> (d1 d2) d3 d4 d5\") # we merge the first two dimensions to process all images at once\n",
    "out_ = ImageEncoder(1, 128)(x_)\n",
    "out = einops.rearrange(out_, \"(b t) c 1 1 -> b t c\", b=bs, t=t) # (b, t, c) is the data format our LSTM will expect\n",
    "\n",
    "y_ = einops.rearrange(y, \"b t c h w -> (b t) c h w\")\n",
    "out_y_ = ImageEncoder(1, 128)(y_)\n",
    "out_y = einops.rearrange(out_y_, \"(b t) c 1 1 -> b t c\", b=bs, t=y.shape[1])\n",
    "\n",
    "print(\"Original input: \", x.shape)\n",
    "print(\"Rearranged input: \", x_.shape)\n",
    "print(\"Original output: \", out_.shape)\n",
    "print(\"Rearranged output: \", out.shape)"
   ]
  },
  {
   "cell_type": "markdown",
   "id": "43c84067-4ea0-4c10-93a3-52e49db4ca84",
   "metadata": {},
   "source": [
    "Further, we need to reconstruct frames from abstract features returned by the RNN. Therefore, we need an `ImageDecoder` *somewhat symmetric* to the `ImageEncoder`."
   ]
  },
  {
   "cell_type": "code",
   "execution_count": 43,
   "id": "e9e9fab8-5049-4dfc-9f97-11b23784d80a",
   "metadata": {},
   "outputs": [],
   "source": [
    "class ImageDecoder(nn.Module):\n",
    "    def __init__(self, in_ch, out_ch):\n",
    "        super(ImageDecoder, self).__init__()\n",
    "        \n",
    "        self.net = nn.Sequential(\n",
    "            nn.ConvTranspose2d(in_ch, in_ch // 2, kernel_size=4, stride=4, padding=0),\n",
    "            nn.BatchNorm2d(in_ch // 2),\n",
    "            nn.ReLU(),\n",
    "            nn.Conv2d(in_ch // 2, in_ch // 2, 3, 1, 1),\n",
    "            nn.BatchNorm2d(in_ch // 2),\n",
    "            nn.ReLU(),\n",
    "            nn.ConvTranspose2d(in_ch // 2, in_ch // 4, kernel_size=4, stride=4, padding=0),\n",
    "            nn.BatchNorm2d(in_ch // 4),\n",
    "            nn.ReLU(),\n",
    "            nn.Conv2d(in_ch // 4, in_ch // 4, 3, 1, 1),\n",
    "            nn.BatchNorm2d(in_ch // 4),\n",
    "            nn.ReLU(),\n",
    "            nn.ConvTranspose2d(in_ch // 4, in_ch // 8, kernel_size=4, stride=4, padding=0),\n",
    "            nn.BatchNorm2d(in_ch // 8),\n",
    "            nn.ReLU(),\n",
    "            nn.Conv2d(in_ch // 8, in_ch // 8, 3, 1, 1),\n",
    "            nn.BatchNorm2d(in_ch // 8),\n",
    "            nn.ReLU(), \n",
    "            nn.Conv2d(in_ch // 8, out_ch, 1, 1, 0)\n",
    "        )\n",
    "\n",
    "    def forward(self, features):\n",
    "        \"\"\"\n",
    "        features - tensor of shape (B', C, 1, 1). \n",
    "        \"\"\"\n",
    "        return self.net(features)"
   ]
  },
  {
   "cell_type": "code",
   "execution_count": 45,
   "id": "127bf3c8-03ab-4ade-9c24-0912d37047e7",
   "metadata": {},
   "outputs": [
    {
     "name": "stdout",
     "output_type": "stream",
     "text": [
      "Decoded frame shape:  torch.Size([320, 1, 64, 64])\n"
     ]
    }
   ],
   "source": [
    "decoded = ImageDecoder(128, 1)(einops.rearrange(out, \"b t c -> (b t) c 1 1\"))\n",
    "\n",
    "print(\"Decoded frame shape: \", decoded.shape)"
   ]
  },
  {
   "cell_type": "markdown",
   "id": "dd7272fe-028f-411f-85d5-59b52cda7615",
   "metadata": {},
   "source": [
    "The temporal features produced by `ImageDecoder` will be fed to a Seq2Seq architecture, which will return a similar tensor for the predicted last frames. Let's design separately the encoder and decoder parts of seq2seq:"
   ]
  },
  {
   "cell_type": "code",
   "execution_count": 47,
   "id": "3b88e07d-06b3-4162-a0e0-d983754ad17e",
   "metadata": {},
   "outputs": [],
   "source": [
    "class Encoder(nn.Module):\n",
    "    def __init__(self, input_dim, hidden_dim, n_layers, dropout=0.1):\n",
    "        super().__init__()\n",
    "        self.hidden_dim = hidden_dim\n",
    "        self.n_layers = n_layers\n",
    "        \n",
    "        self.rnn = nn.LSTM(input_dim, hidden_dim, n_layers, dropout=dropout, batch_first=True)\n",
    "\n",
    "    def forward(self, vector_features):\n",
    "        outputs, (hidden, cell) = self.rnn(vector_features)\n",
    "\n",
    "        return hidden, cell\n",
    "\n",
    "class Decoder(nn.Module):\n",
    "    def __init__(self, input_dim, hidden_dim, output_dim, n_layers, dropout=0.1):\n",
    "        super().__init__()\n",
    "        self.output_dim = output_dim  # output_dim should be = hidden dim of image features from ImageEncoder\n",
    "        self.hidden_dim = hidden_dim\n",
    "        self.n_layers = n_layers\n",
    "        \n",
    "        self.rnn = nn.LSTM(input_dim, hidden_dim, n_layers, dropout=dropout, batch_first=True)\n",
    "        \n",
    "        if hidden_dim != output_dim:\n",
    "            self.fc_out = nn.Linear(hidden_dim, output_dim)\n",
    "        else:\n",
    "            self.fc_out = nn.Identity()\n",
    "        self.dropout = nn.Dropout(dropout)\n",
    "\n",
    "    def forward(self, in_token, hidden, cell):\n",
    "        output, (hidden, cell) = self.rnn(in_token, (hidden, cell))\n",
    "        prediction = self.fc_out(output)\n",
    "        \n",
    "        return prediction, hidden, cell"
   ]
  },
  {
   "cell_type": "code",
   "execution_count": 49,
   "id": "d6dbc104-de4f-4641-9d63-3c301891a0f2",
   "metadata": {},
   "outputs": [
    {
     "name": "stdout",
     "output_type": "stream",
     "text": [
      "Encoder hidden/cell states:  torch.Size([4, 32, 128]) torch.Size([4, 32, 128])\n",
      "step=0 Decoder output/hidden/cell states:  torch.Size([32, 1, 128]) torch.Size([4, 32, 128]) torch.Size([4, 32, 128])\n",
      "step=1 Decoder output/hidden/cell states:  torch.Size([32, 1, 128]) torch.Size([4, 32, 128]) torch.Size([4, 32, 128])\n",
      "step=2 Decoder output/hidden/cell states:  torch.Size([32, 1, 128]) torch.Size([4, 32, 128]) torch.Size([4, 32, 128])\n",
      "step=3 Decoder output/hidden/cell states:  torch.Size([32, 1, 128]) torch.Size([4, 32, 128]) torch.Size([4, 32, 128])\n",
      "step=4 Decoder output/hidden/cell states:  torch.Size([32, 1, 128]) torch.Size([4, 32, 128]) torch.Size([4, 32, 128])\n",
      "step=5 Decoder output/hidden/cell states:  torch.Size([32, 1, 128]) torch.Size([4, 32, 128]) torch.Size([4, 32, 128])\n",
      "step=6 Decoder output/hidden/cell states:  torch.Size([32, 1, 128]) torch.Size([4, 32, 128]) torch.Size([4, 32, 128])\n",
      "step=7 Decoder output/hidden/cell states:  torch.Size([32, 1, 128]) torch.Size([4, 32, 128]) torch.Size([4, 32, 128])\n",
      "step=8 Decoder output/hidden/cell states:  torch.Size([32, 1, 128]) torch.Size([4, 32, 128]) torch.Size([4, 32, 128])\n",
      "step=9 Decoder output/hidden/cell states:  torch.Size([32, 1, 128]) torch.Size([4, 32, 128]) torch.Size([4, 32, 128])\n"
     ]
    }
   ],
   "source": [
    "h, c = Encoder(out.shape[-1], 128, 4)(out)\n",
    "print(\"Encoder hidden/cell states: \", h.shape, c.shape) # (num_lstm_layers, batch_size, hidden_dim)\n",
    "\n",
    "dec = Decoder(128, 128, 128, 4)\n",
    "in_token = torch.zeros((bs, 1, out_y.shape[-1]))\n",
    "\n",
    "# we'll need to iterate over the target sequence step-by-step, compute the current output, and fed it as input in the next step\n",
    "for i in range(y.shape[1]):\n",
    "    out_d, h, c = dec(in_token, h, c)\n",
    "    print(f\"step={i} Decoder output/hidden/cell states: \", out_d.shape, h.shape, c.shape)"
   ]
  },
  {
   "cell_type": "markdown",
   "id": "0b4f7434-1478-4998-b847-904e2a1437a8",
   "metadata": {},
   "source": [
    "Combine an `Encoder` and a `Decoder` instance into a `Seq2Seq` model:"
   ]
  },
  {
   "cell_type": "code",
   "execution_count": 50,
   "id": "019a1e7b-8535-4ef0-bcd0-9829fb82b024",
   "metadata": {
    "editable": true,
    "slideshow": {
     "slide_type": ""
    },
    "tags": []
   },
   "outputs": [],
   "source": [
    "class Seq2Seq(nn.Module):\n",
    "    def __init__(self, input_dim, n_layers, dropout=0.1, learnable_start_token=True):        \n",
    "        super().__init__()\n",
    "\n",
    "        self.encoder = Encoder(input_dim, input_dim, n_layers, dropout=dropout)\n",
    "        self.decoder = Decoder(input_dim, input_dim, input_dim, n_layers, dropout=dropout)\n",
    "\n",
    "        # We need a START token. We can either set it to 0 or learn it.\n",
    "        self.start_token = nn.Parameter(torch.zeros((1, 1, input_dim)), requires_grad=learnable_start_token)\n",
    "    \n",
    "    def forward(self, source, target, teacher_forcing_ratio):\n",
    "        \n",
    "        batch_size = target.shape[0]\n",
    "        trg_length = target.shape[1]\n",
    "\n",
    "        outputs = torch.zeros_like(target).to(source.device)\n",
    "\n",
    "        hidden, cell = self.encoder(source)\n",
    "\n",
    "        # Duplicate start token for the current batch\n",
    "        input = einops.repeat(self.start_token, \"1 1 x -> rep 1 x\", rep=batch_size)\n",
    "        # input = source[:, -1].unsqueeze(1)\n",
    "        \n",
    "        for t in range(trg_length):\n",
    "            output, hidden, cell = self.decoder(input, hidden, cell)\n",
    "\n",
    "            outputs[:, t] = output[:, 0]\n",
    "            \n",
    "            teacher_force = torch.rand(1) < teacher_forcing_ratio\n",
    "            input = target[:, t].unsqueeze(1) if teacher_force else output\n",
    "            \n",
    "        return outputs"
   ]
  },
  {
   "cell_type": "markdown",
   "id": "6544c0de-651e-43c9-a301-d7ca78792f14",
   "metadata": {},
   "source": [
    "In the above, we have defined a `teacher_forcing_ratio`, which is a number in `[0, 1]` representing the probability that in the next step we'll feed as input the true target frame, otherwise we'll feed the previously generated frame. This is a helpful trick during training, otherwise the forward process might get stuck in unrealistic solutions if the previous timestep wasn't good enough, hence a slower optimization process.\n",
    "\n",
    "**Obiously, during inferece `teacher_forcing_ratio = 0` since we don't practically have access to the future frames.**"
   ]
  },
  {
   "cell_type": "code",
   "execution_count": 51,
   "id": "feddae4a-7cd0-4f22-80ee-189e58cea0b0",
   "metadata": {},
   "outputs": [
    {
     "name": "stdout",
     "output_type": "stream",
     "text": [
      "Seq2Seq output:  torch.Size([32, 10, 128])\n"
     ]
    }
   ],
   "source": [
    "ss = Seq2Seq(128, 4)\n",
    "print(\"Seq2Seq output: \", ss(out, out_y, 0.1).shape)"
   ]
  },
  {
   "cell_type": "markdown",
   "id": "00638988-2f45-4f01-95ca-8dd9aaf436ca",
   "metadata": {},
   "source": [
    "Finally, let's wrap everything up:"
   ]
  },
  {
   "cell_type": "code",
   "execution_count": 52,
   "id": "d99871a6-72ef-44cc-a9ac-b0540cdfd22f",
   "metadata": {},
   "outputs": [],
   "source": [
    "class ForecastModel(nn.Module):\n",
    "    def __init__(self, in_ch, inner_dim, n_lstm_layers, dropout):\n",
    "        super().__init__()\n",
    "\n",
    "        self.in_ch = in_ch\n",
    "        self.inner_dim = inner_dim\n",
    "        self.n_lstm_layers = n_lstm_layers\n",
    "        self.drop = dropout\n",
    "\n",
    "        self.im_enc = ImageEncoder(in_ch, inner_dim)\n",
    "        self.im_dec = ImageDecoder(inner_dim, in_ch)\n",
    "\n",
    "        self.seq2seq = Seq2Seq(inner_dim, n_lstm_layers, dropout)\n",
    "\n",
    "    def forward(self, source, target, teacher_forcing_ratio):\n",
    "\n",
    "        b = source.shape[0]\n",
    "        ts, tt = source.shape[1], target.shape[1]\n",
    "\n",
    "        # Encode input frames\n",
    "        source_ = einops.rearrange(source, \"b t c h w -> (b t) c h w\")\n",
    "        source_ = self.im_enc(source_)\n",
    "        source_ = einops.rearrange(source_, \"(b t) c 1 1 -> b t c\", b=b, t=ts)\n",
    "\n",
    "        # Encode target frames\n",
    "        target_ = einops.rearrange(target, \"b t c h w -> (b t) c h w\")\n",
    "        target_ = self.im_enc(target_)\n",
    "        target_ = einops.rearrange(target_, \"(b t) c 1 1 -> b t c\", b=b, t=tt)\n",
    "\n",
    "        # Apply Seq2Seq\n",
    "        ss_pred = self.seq2seq(source_, target_, teacher_forcing_ratio)\n",
    "        ss_pred_ = einops.rearrange(ss_pred, \"b t c -> (b t) c 1 1\")\n",
    "\n",
    "        # Reconstruct next frames\n",
    "        frame_pred = self.im_dec(ss_pred_)\n",
    "        frame_pred = einops.rearrange(frame_pred, \"(b t) c h w -> b t c h w\", b=b, t=tt)\n",
    "        \n",
    "        return frame_pred"
   ]
  },
  {
   "cell_type": "code",
   "execution_count": 54,
   "id": "aaa97c12-5b77-4c85-9995-fba56d928d28",
   "metadata": {},
   "outputs": [
    {
     "name": "stdout",
     "output_type": "stream",
     "text": [
      "Output shape:  torch.Size([32, 10, 1, 64, 64])\n"
     ]
    }
   ],
   "source": [
    "out = ForecastModel(1, 32, 4, 0.1)(x, y, 0.1)\n",
    "\n",
    "print(\"Output shape: \", out.shape)"
   ]
  },
  {
   "cell_type": "markdown",
   "id": "6e0b482f-add5-4d2d-8080-56ce27d06fb3",
   "metadata": {},
   "source": [
    "### Train Seq2Seq model"
   ]
  },
  {
   "cell_type": "code",
   "execution_count": 55,
   "id": "6b0acfb5-1855-46f9-8456-6870be75f853",
   "metadata": {
    "editable": true,
    "slideshow": {
     "slide_type": ""
    },
    "tags": []
   },
   "outputs": [],
   "source": [
    "in_ch = 1\n",
    "inner_dim = 128\n",
    "n_lstm_layers = 2\n",
    "dropout = 0.3\n",
    "teacher_forcing_ratio = 0.5\n",
    "\n",
    "epochs = 5\n",
    "lr = 1e-3\n",
    "folder_path = \"models/mmnist/\"\n",
    "file_name = \"model.pth\"\n",
    "\n",
    "model = ForecastModel(in_ch, inner_dim, n_lstm_layers, dropout)"
   ]
  },
  {
   "cell_type": "markdown",
   "id": "bb630914",
   "metadata": {},
   "source": [
    "Instead of standard $\\ell_1$ or $\\ell_2$ losses we can use the `BCEWithLogitsLoss` for each predicted pixel - this is possible **only because images are binary, i.e. targets are \\{0, 1\\}**."
   ]
  },
  {
   "cell_type": "code",
   "execution_count": 56,
   "id": "f951cb67-fc4d-416a-9ec4-95c1252f0714",
   "metadata": {},
   "outputs": [],
   "source": [
    "optimizer = torch.optim.Adam(model.parameters(), lr=lr)\n",
    "criterion = torch.nn.BCEWithLogitsLoss()"
   ]
  },
  {
   "cell_type": "code",
   "execution_count": 57,
   "id": "9c524185-c2d1-439f-8702-2953d2feaaba",
   "metadata": {
    "editable": true,
    "slideshow": {
     "slide_type": ""
    },
    "tags": []
   },
   "outputs": [
    {
     "name": "stdout",
     "output_type": "stream",
     "text": [
      "Couldn't load model\n"
     ]
    },
    {
     "name": "stderr",
     "output_type": "stream",
     "text": [
      "250it [07:58,  1.92s/it]\n",
      "63it [00:52,  1.20it/s]\n"
     ]
    },
    {
     "name": "stdout",
     "output_type": "stream",
     "text": [
      "Epoch 1/5: train_loss=0.297975844681263 test_loss=0.18690356517594958\n"
     ]
    },
    {
     "name": "stderr",
     "output_type": "stream",
     "text": [
      "250it [08:20,  2.00s/it]\n",
      "63it [00:58,  1.08it/s]\n"
     ]
    },
    {
     "name": "stdout",
     "output_type": "stream",
     "text": [
      "Epoch 2/5: train_loss=0.13593635672330856 test_loss=0.14365514001202961\n"
     ]
    },
    {
     "name": "stderr",
     "output_type": "stream",
     "text": [
      "250it [07:46,  1.86s/it]\n",
      "63it [00:51,  1.22it/s]\n"
     ]
    },
    {
     "name": "stdout",
     "output_type": "stream",
     "text": [
      "Epoch 3/5: train_loss=0.1146246946156025 test_loss=0.1313526084025701\n"
     ]
    },
    {
     "name": "stderr",
     "output_type": "stream",
     "text": [
      "250it [08:48,  2.12s/it]\n",
      "63it [00:55,  1.14it/s]\n"
     ]
    },
    {
     "name": "stdout",
     "output_type": "stream",
     "text": [
      "Epoch 4/5: train_loss=0.10802784487605095 test_loss=0.12533846119093517\n"
     ]
    },
    {
     "name": "stderr",
     "output_type": "stream",
     "text": [
      "26it [01:00,  2.33s/it]\n"
     ]
    },
    {
     "ename": "KeyboardInterrupt",
     "evalue": "",
     "output_type": "error",
     "traceback": [
      "\u001b[0;31m---------------------------------------------------------------------------\u001b[0m",
      "\u001b[0;31mKeyboardInterrupt\u001b[0m                         Traceback (most recent call last)",
      "Cell \u001b[0;32mIn[57], line 7\u001b[0m\n\u001b[1;32m      3\u001b[0m importlib\u001b[38;5;241m.\u001b[39mreload(torch_utils)\n\u001b[1;32m      5\u001b[0m device \u001b[38;5;241m=\u001b[39m torch\u001b[38;5;241m.\u001b[39mdevice(\u001b[38;5;124m\"\u001b[39m\u001b[38;5;124mcuda\u001b[39m\u001b[38;5;124m\"\u001b[39m \u001b[38;5;28;01mif\u001b[39;00m torch\u001b[38;5;241m.\u001b[39mcuda\u001b[38;5;241m.\u001b[39mis_available() \u001b[38;5;28;01melse\u001b[39;00m \u001b[38;5;124m\"\u001b[39m\u001b[38;5;124mcpu\u001b[39m\u001b[38;5;124m\"\u001b[39m)\n\u001b[0;32m----> 7\u001b[0m train_losses, test_losses \u001b[38;5;241m=\u001b[39m \u001b[43mtorch_utils\u001b[49m\u001b[38;5;241;43m.\u001b[39;49m\u001b[43mtrain_loop_forecast\u001b[49m\u001b[43m(\u001b[49m\n\u001b[1;32m      8\u001b[0m \u001b[43m    \u001b[49m\u001b[43mmodel\u001b[49m\u001b[43m,\u001b[49m\u001b[43m \u001b[49m\n\u001b[1;32m      9\u001b[0m \u001b[43m    \u001b[49m\u001b[43mtrain_loader\u001b[49m\u001b[43m,\u001b[49m\u001b[43m \u001b[49m\n\u001b[1;32m     10\u001b[0m \u001b[43m    \u001b[49m\u001b[43moptimizer\u001b[49m\u001b[43m,\u001b[49m\u001b[43m \u001b[49m\n\u001b[1;32m     11\u001b[0m \u001b[43m    \u001b[49m\u001b[43mcriterion\u001b[49m\u001b[43m,\u001b[49m\u001b[43m \u001b[49m\n\u001b[1;32m     12\u001b[0m \u001b[43m    \u001b[49m\u001b[43mepochs\u001b[49m\u001b[43m,\u001b[49m\u001b[43m \u001b[49m\n\u001b[1;32m     13\u001b[0m \u001b[43m    \u001b[49m\u001b[43mteacher_forcing_ratio\u001b[49m\u001b[43m,\u001b[49m\n\u001b[1;32m     14\u001b[0m \u001b[43m    \u001b[49m\u001b[43mtest_loader\u001b[49m\u001b[38;5;241;43m=\u001b[39;49m\u001b[43mtest_loader\u001b[49m\u001b[43m,\u001b[49m\u001b[43m \u001b[49m\n\u001b[1;32m     15\u001b[0m \u001b[43m    \u001b[49m\u001b[43mdevice\u001b[49m\u001b[38;5;241;43m=\u001b[39;49m\u001b[43mdevice\u001b[49m\u001b[43m,\u001b[49m\u001b[43m \u001b[49m\n\u001b[1;32m     16\u001b[0m \u001b[43m    \u001b[49m\u001b[43mfolder_path\u001b[49m\u001b[38;5;241;43m=\u001b[39;49m\u001b[43mfolder_path\u001b[49m\u001b[43m,\u001b[49m\u001b[43m \u001b[49m\n\u001b[1;32m     17\u001b[0m \u001b[43m    \u001b[49m\u001b[43mfile_name\u001b[49m\u001b[38;5;241;43m=\u001b[39;49m\u001b[43mfile_name\u001b[49m\n\u001b[1;32m     18\u001b[0m \u001b[43m)\u001b[49m\n",
      "File \u001b[0;32m~/Desktop/BIOSINF/BIOSINF_IA2/L4/torch_utils.py:195\u001b[0m, in \u001b[0;36mtrain_loop_forecast\u001b[0;34m(model, train_loader, optimizer, loss, epochs, teacher_forcing_ratio, test_loader, device, folder_path, file_name, print_frequency)\u001b[0m\n\u001b[1;32m    192\u001b[0m         \u001b[38;5;28mprint\u001b[39m(\u001b[38;5;124m\"\u001b[39m\u001b[38;5;124mCouldn\u001b[39m\u001b[38;5;124m'\u001b[39m\u001b[38;5;124mt load model\u001b[39m\u001b[38;5;124m\"\u001b[39m)\n\u001b[1;32m    194\u001b[0m \u001b[38;5;28;01mfor\u001b[39;00m e \u001b[38;5;129;01min\u001b[39;00m \u001b[38;5;28mrange\u001b[39m(\u001b[38;5;241m1\u001b[39m, epochs \u001b[38;5;241m+\u001b[39m \u001b[38;5;241m1\u001b[39m):\n\u001b[0;32m--> 195\u001b[0m     train_loss \u001b[38;5;241m=\u001b[39m \u001b[43miterate_forecast\u001b[49m\u001b[43m(\u001b[49m\u001b[43mmodel\u001b[49m\u001b[43m,\u001b[49m\u001b[43m \u001b[49m\u001b[43mtrain_loader\u001b[49m\u001b[43m,\u001b[49m\u001b[43m \u001b[49m\u001b[43moptimizer\u001b[49m\u001b[43m,\u001b[49m\u001b[43m \u001b[49m\u001b[43mloss\u001b[49m\u001b[43m,\u001b[49m\u001b[43m \u001b[49m\u001b[43mteacher_forcing_ratio\u001b[49m\u001b[43m,\u001b[49m\u001b[43m \u001b[49m\u001b[43mdevice\u001b[49m\u001b[38;5;241;43m=\u001b[39;49m\u001b[43mdevice\u001b[49m\u001b[43m)\u001b[49m\n\u001b[1;32m    196\u001b[0m     train_losses\u001b[38;5;241m.\u001b[39mappend(train_loss)\n\u001b[1;32m    198\u001b[0m     \u001b[38;5;28;01mif\u001b[39;00m test_loader \u001b[38;5;129;01mis\u001b[39;00m \u001b[38;5;129;01mnot\u001b[39;00m \u001b[38;5;28;01mNone\u001b[39;00m:\n",
      "File \u001b[0;32m~/Desktop/BIOSINF/BIOSINF_IA2/L4/torch_utils.py:150\u001b[0m, in \u001b[0;36miterate_forecast\u001b[0;34m(model, dataloader, optimizer, loss_fn, teacher_forcing_ratio, is_training, device)\u001b[0m\n\u001b[1;32m    148\u001b[0m \u001b[38;5;28;01mif\u001b[39;00m is_training:\n\u001b[1;32m    149\u001b[0m     optimizer\u001b[38;5;241m.\u001b[39mzero_grad()\n\u001b[0;32m--> 150\u001b[0m     \u001b[43mloss\u001b[49m\u001b[38;5;241;43m.\u001b[39;49m\u001b[43mbackward\u001b[49m\u001b[43m(\u001b[49m\u001b[43m)\u001b[49m\n\u001b[1;32m    151\u001b[0m     optimizer\u001b[38;5;241m.\u001b[39mstep()\n\u001b[1;32m    153\u001b[0m \u001b[38;5;66;03m# Cumulative loss for reporting\u001b[39;00m\n",
      "File \u001b[0;32m/opt/anaconda3/envs/ia2/lib/python3.10/site-packages/torch/_tensor.py:487\u001b[0m, in \u001b[0;36mTensor.backward\u001b[0;34m(self, gradient, retain_graph, create_graph, inputs)\u001b[0m\n\u001b[1;32m    477\u001b[0m \u001b[38;5;28;01mif\u001b[39;00m has_torch_function_unary(\u001b[38;5;28mself\u001b[39m):\n\u001b[1;32m    478\u001b[0m     \u001b[38;5;28;01mreturn\u001b[39;00m handle_torch_function(\n\u001b[1;32m    479\u001b[0m         Tensor\u001b[38;5;241m.\u001b[39mbackward,\n\u001b[1;32m    480\u001b[0m         (\u001b[38;5;28mself\u001b[39m,),\n\u001b[0;32m   (...)\u001b[0m\n\u001b[1;32m    485\u001b[0m         inputs\u001b[38;5;241m=\u001b[39minputs,\n\u001b[1;32m    486\u001b[0m     )\n\u001b[0;32m--> 487\u001b[0m \u001b[43mtorch\u001b[49m\u001b[38;5;241;43m.\u001b[39;49m\u001b[43mautograd\u001b[49m\u001b[38;5;241;43m.\u001b[39;49m\u001b[43mbackward\u001b[49m\u001b[43m(\u001b[49m\n\u001b[1;32m    488\u001b[0m \u001b[43m    \u001b[49m\u001b[38;5;28;43mself\u001b[39;49m\u001b[43m,\u001b[49m\u001b[43m \u001b[49m\u001b[43mgradient\u001b[49m\u001b[43m,\u001b[49m\u001b[43m \u001b[49m\u001b[43mretain_graph\u001b[49m\u001b[43m,\u001b[49m\u001b[43m \u001b[49m\u001b[43mcreate_graph\u001b[49m\u001b[43m,\u001b[49m\u001b[43m \u001b[49m\u001b[43minputs\u001b[49m\u001b[38;5;241;43m=\u001b[39;49m\u001b[43minputs\u001b[49m\n\u001b[1;32m    489\u001b[0m \u001b[43m\u001b[49m\u001b[43m)\u001b[49m\n",
      "File \u001b[0;32m/opt/anaconda3/envs/ia2/lib/python3.10/site-packages/torch/autograd/__init__.py:200\u001b[0m, in \u001b[0;36mbackward\u001b[0;34m(tensors, grad_tensors, retain_graph, create_graph, grad_variables, inputs)\u001b[0m\n\u001b[1;32m    195\u001b[0m     retain_graph \u001b[38;5;241m=\u001b[39m create_graph\n\u001b[1;32m    197\u001b[0m \u001b[38;5;66;03m# The reason we repeat same the comment below is that\u001b[39;00m\n\u001b[1;32m    198\u001b[0m \u001b[38;5;66;03m# some Python versions print out the first line of a multi-line function\u001b[39;00m\n\u001b[1;32m    199\u001b[0m \u001b[38;5;66;03m# calls in the traceback and some print out the last line\u001b[39;00m\n\u001b[0;32m--> 200\u001b[0m \u001b[43mVariable\u001b[49m\u001b[38;5;241;43m.\u001b[39;49m\u001b[43m_execution_engine\u001b[49m\u001b[38;5;241;43m.\u001b[39;49m\u001b[43mrun_backward\u001b[49m\u001b[43m(\u001b[49m\u001b[43m  \u001b[49m\u001b[38;5;66;43;03m# Calls into the C++ engine to run the backward pass\u001b[39;49;00m\n\u001b[1;32m    201\u001b[0m \u001b[43m    \u001b[49m\u001b[43mtensors\u001b[49m\u001b[43m,\u001b[49m\u001b[43m \u001b[49m\u001b[43mgrad_tensors_\u001b[49m\u001b[43m,\u001b[49m\u001b[43m \u001b[49m\u001b[43mretain_graph\u001b[49m\u001b[43m,\u001b[49m\u001b[43m \u001b[49m\u001b[43mcreate_graph\u001b[49m\u001b[43m,\u001b[49m\u001b[43m \u001b[49m\u001b[43minputs\u001b[49m\u001b[43m,\u001b[49m\n\u001b[1;32m    202\u001b[0m \u001b[43m    \u001b[49m\u001b[43mallow_unreachable\u001b[49m\u001b[38;5;241;43m=\u001b[39;49m\u001b[38;5;28;43;01mTrue\u001b[39;49;00m\u001b[43m,\u001b[49m\u001b[43m \u001b[49m\u001b[43maccumulate_grad\u001b[49m\u001b[38;5;241;43m=\u001b[39;49m\u001b[38;5;28;43;01mTrue\u001b[39;49;00m\u001b[43m)\u001b[49m\n",
      "\u001b[0;31mKeyboardInterrupt\u001b[0m: "
     ]
    }
   ],
   "source": [
    "import importlib\n",
    "import torch_utils\n",
    "importlib.reload(torch_utils)\n",
    "\n",
    "device = torch.device(\"cuda\" if torch.cuda.is_available() else \"cpu\")\n",
    "\n",
    "train_losses, test_losses = torch_utils.train_loop_forecast(\n",
    "    model, \n",
    "    train_loader, \n",
    "    optimizer, \n",
    "    criterion, \n",
    "    epochs, \n",
    "    teacher_forcing_ratio,\n",
    "    test_loader=test_loader, \n",
    "    device=device, \n",
    "    folder_path=folder_path, \n",
    "    file_name=file_name\n",
    ")"
   ]
  },
  {
   "cell_type": "code",
   "execution_count": 58,
   "id": "d34ce10f-38ec-4ef5-918f-c54288c8c5f1",
   "metadata": {},
   "outputs": [
    {
     "data": {
      "image/png": "[encoded data removed]",
      "text/plain": [
       "<Figure size 2000x400 with 20 Axes>"
      ]
     },
     "metadata": {},
     "output_type": "display_data"
    },
    {
     "data": {
      "image/png": "[encoded data removed]",
      "text/plain": [
       "<Figure size 2000x400 with 20 Axes>"
      ]
     },
     "metadata": {},
     "output_type": "display_data"
    }
   ],
   "source": [
    "i = -5\n",
    "\n",
    "pred = model(x[i].unsqueeze(0).to(device), y[i].unsqueeze(0).to(device), 0)\n",
    "pred = nn.functional.sigmoid(pred)\n",
    "pred = pred.squeeze(0).cpu().detach().numpy()\n",
    "\n",
    "all_frames_pred = np.concatenate((x[i], pred), axis=0)\n",
    "all_frames = np.concatenate((x[i], y[i]), axis=0)\n",
    "\n",
    "plt.figure(figsize=(20, 4))\n",
    "for i in range(all_frames.shape[0]):\n",
    "    plt.subplot(1, all_frames.shape[0], i+1)\n",
    "    plt.imshow(all_frames[i].squeeze(), cmap=\"gray\")\n",
    "    plt.axis(\"off\")\n",
    "plt.figure(figsize=(20, 4))\n",
    "for i in range(all_frames_pred.shape[0]):\n",
    "    plt.subplot(1, all_frames_pred.shape[0], i+1)\n",
    "    plt.imshow(all_frames_pred[i].squeeze(), cmap=\"gray\")\n",
    "    plt.axis(\"off\")"
   ]
  },
  {
   "cell_type": "code",
   "execution_count": 59,
   "id": "3262bcba-7618-4975-bf8b-9767fdd02f9b",
   "metadata": {
    "editable": true,
    "slideshow": {
     "slide_type": ""
    },
    "tags": []
   },
   "outputs": [
    {
     "data": {
      "application/vnd.jupyter.widget-view+json": {
       "model_id": "19a14cea61db4b43895b7112e4bccc5d",
       "version_major": 2,
       "version_minor": 0
      },
      "text/plain": [
       "interactive(children=(IntSlider(value=0, description='Frame', max=19), Output()), _dom_classes=('widget-intera…"
      ]
     },
     "metadata": {},
     "output_type": "display_data"
    },
    {
     "data": {
      "text/plain": [
       "<function __main__.display_frame(frame_number)>"
      ]
     },
     "execution_count": 59,
     "metadata": {},
     "output_type": "execute_result"
    }
   ],
   "source": [
    "def display_frame(frame_number):\n",
    "    plt.subplot(1, 2, 1)\n",
    "    plt.title(\"Predicted\")\n",
    "    plt.imshow(all_frames_pred[frame_number].squeeze(), cmap=\"gray\")\n",
    "    plt.axis('off')\n",
    "    plt.subplot(1, 2, 2)\n",
    "    plt.title(\"GT\")\n",
    "    plt.imshow(all_frames[frame_number].squeeze(), cmap=\"gray\")\n",
    "    plt.axis(\"off\")\n",
    "    plt.show()\n",
    "\n",
    "frame_slider = widgets.IntSlider(min=0, max=all_frames_pred.shape[0] - 1, step=1, description='Frame')\n",
    "widgets.interact(display_frame, frame_number=frame_slider)"
   ]
  },
  {
   "cell_type": "markdown",
   "id": "38788037",
   "metadata": {},
   "source": [
    "Observations:\n",
    "- As we go deeper into the temporal dimension, the information regarding class digit fades\n",
    "- The dynamics remain well-predicted, meaning that the `Seq2Seq` model successfully retains & uses information from previous frames\n",
    "- The `ImageEncoder` and `ImageDecoder` could share some information in order for the digit structure to remain intact after decoding"
   ]
  },
  {
   "cell_type": "markdown",
   "id": "2dc69d5a",
   "metadata": {},
   "source": [
    "### (Optional) Seq2Seq + Self-Attention"
   ]
  },
  {
   "cell_type": "markdown",
   "id": "61cac4c3-0db3-48af-aad2-94a5d8c3a035",
   "metadata": {},
   "source": [
    "Let's add a `MultiheadAttention` attention module over the output temporal features:"
   ]
  },
  {
   "cell_type": "markdown",
   "id": "bbe80eac",
   "metadata": {},
   "source": [
    "<div style=\"text-align: center;\">\n",
    "  <img src=\"imgs/seq2seq_at.png\" alt=\"description\" width=\"1000\"/>\n",
    "  <figcaption>Seq2Seq + Self-Attention. <a href=\"https://blog.suriya.app/2016-12-31-practical-seq2seq/\">Source</a></figcaption>\n",
    "</div>"
   ]
  },
  {
   "cell_type": "code",
   "execution_count": 51,
   "id": "0f35a859-79b0-4132-a48d-7a707d777002",
   "metadata": {},
   "outputs": [],
   "source": [
    "import importlib\n",
    "import torch_utils\n",
    "importlib.reload(torch_utils)\n",
    "\n",
    "class ForecastModelAtt(nn.Module):\n",
    "    def __init__(self, in_ch, inner_dim, n_lstm_layers, dropout):\n",
    "        super().__init__()\n",
    "\n",
    "        self.in_ch = in_ch\n",
    "        self.inner_dim = inner_dim\n",
    "        self.n_lstm_layers = n_lstm_layers\n",
    "        self.drop = dropout\n",
    "\n",
    "        self.im_enc = ImageEncoder(in_ch, inner_dim)\n",
    "        self.im_dec = ImageDecoder(inner_dim, in_ch)\n",
    "\n",
    "        self.seq2seq = Seq2Seq(inner_dim, n_lstm_layers, dropout)\n",
    "\n",
    "        # this actually doesn't replicate the input to each head, but rather divides the input into n_heads and applies attention separately on each part\n",
    "        # check the documentation\n",
    "        self.att = nn.MultiheadAttention(inner_dim, num_heads=4, batch_first=True, dropout=0.5)\n",
    "        \n",
    "    def forward(self, source, target, teacher_forcing_ratio):\n",
    "\n",
    "        b = source.shape[0]\n",
    "        ts, tt = source.shape[1], target.shape[1]\n",
    "\n",
    "        # Encode input frames\n",
    "        source_ = einops.rearrange(source, \"b t c h w -> (b t) c h w\")\n",
    "        source_ = self.im_enc(source_)\n",
    "        source_ = einops.rearrange(source_, \"(b t) c 1 1 -> b t c\", b=b, t=ts)\n",
    "\n",
    "        # Encode target frames\n",
    "        target_ = einops.rearrange(target, \"b t c h w -> (b t) c h w\")\n",
    "        target_ = self.im_enc(target_)\n",
    "        target_ = einops.rearrange(target_, \"(b t) c 1 1 -> b t c\", b=b, t=tt)\n",
    "\n",
    "        # Apply Seq2Seq\n",
    "        ss_pred = self.seq2seq(source_, target_, teacher_forcing_ratio)\n",
    "\n",
    "        # Apply attention\n",
    "        ss_pred, att_weights = self.att(ss_pred, ss_pred, ss_pred)\n",
    "        \n",
    "        ss_pred_ = einops.rearrange(ss_pred, \"b t c -> (b t) c 1 1\")\n",
    "\n",
    "        # Reconstruct next frames\n",
    "        frame_pred = self.im_dec(ss_pred_)\n",
    "        frame_pred = einops.rearrange(frame_pred, \"(b t) c h w -> b t c h w\", b=b, t=tt)\n",
    "        \n",
    "        return frame_pred"
   ]
  },
  {
   "cell_type": "code",
   "execution_count": null,
   "id": "8ef1e348-34f9-48ae-aa95-de732e5d3ecb",
   "metadata": {},
   "outputs": [],
   "source": [
    "in_ch = 1\n",
    "inner_dim = 128\n",
    "n_lstm_layers = 2\n",
    "dropout = 0.2\n",
    "teacher_forcing_ratio = 0.5\n",
    "\n",
    "epochs = 5\n",
    "lr = 1e-3\n",
    "folder_path = \"models/mmnist_att/\"\n",
    "file_name = \"model.pth\"\n",
    "\n",
    "model_att = ForecastModelAtt(in_ch, inner_dim, n_lstm_layers, dropout)\n",
    "\n",
    "optimizer = torch.optim.Adam(model_att.parameters(), lr=lr)\n",
    "criterion = torch.nn.BCEWithLogitsLoss()\n",
    "\n",
    "device = torch.device(\"cuda\" if torch.cuda.is_available() else \"cpu\")\n",
    "\n",
    "train_losses, test_losses = torch_utils.train_loop_forecast(\n",
    "    model_att, train_loader, optimizer, criterion, epochs, teacher_forcing_ratio,\n",
    "    test_loader=test_loader, device=device, folder_path=folder_path, file_name=file_name\n",
    ")"
   ]
  },
  {
   "cell_type": "code",
   "execution_count": 56,
   "id": "a3ee609f-29cb-4c56-bf61-e7eb244efa32",
   "metadata": {},
   "outputs": [
    {
     "data": {
      "application/vnd.jupyter.widget-view+json": {
       "model_id": "f305fb4ed8bc4efea6ba79bcd1ad7119",
       "version_major": 2,
       "version_minor": 0
      },
      "text/plain": [
       "interactive(children=(IntSlider(value=0, description='Frame', max=19), Output()), _dom_classes=('widget-intera…"
      ]
     },
     "metadata": {},
     "output_type": "display_data"
    },
    {
     "data": {
      "text/plain": [
       "<function __main__.display_frame(frame_number)>"
      ]
     },
     "execution_count": 56,
     "metadata": {},
     "output_type": "execute_result"
    }
   ],
   "source": [
    "i = -5\n",
    "\n",
    "pred = model(x[i].unsqueeze(0).to(device), y[i].unsqueeze(0).to(device), 0)\n",
    "pred = nn.functional.sigmoid(pred)\n",
    "pred = pred.squeeze(0).cpu().detach().numpy()\n",
    "\n",
    "pred_att = model_att(x[i].unsqueeze(0).to(device), y[i].unsqueeze(0).to(device), 0)\n",
    "pred_att = nn.functional.sigmoid(pred_att)\n",
    "pred_att = pred_att.squeeze(0).cpu().detach().numpy()\n",
    "\n",
    "all_frames_pred_att = np.concatenate((x[i], pred_att), axis=0)\n",
    "all_frames_pred = np.concatenate((x[i], pred), axis=0)\n",
    "all_frames = np.concatenate((x[i], y[i]), axis=0)\n",
    "\n",
    "\n",
    "def display_frame(frame_number):\n",
    "    plt.figure(figsize=(10, 4))\n",
    "    plt.subplot(1, 3, 1)\n",
    "    plt.title(\"Predicted\")\n",
    "    plt.imshow(all_frames_pred[frame_number].squeeze(), cmap=\"gray\")\n",
    "    plt.axis('off')\n",
    "    plt.subplot(1, 3, 2)\n",
    "    plt.title(\"Predicted Self-Att\")\n",
    "    plt.imshow(all_frames_pred_att[frame_number].squeeze(), cmap=\"gray\")\n",
    "    plt.axis('off')\n",
    "    plt.subplot(1, 3, 3)\n",
    "    plt.title(\"GT\")\n",
    "    plt.imshow(all_frames[frame_number].squeeze(), cmap=\"gray\")\n",
    "    plt.axis(\"off\")\n",
    "    plt.show()\n",
    "\n",
    "frame_slider = widgets.IntSlider(min=0, max=all_frames_pred.shape[0] - 1, step=1, description='Frame')\n",
    "widgets.interact(display_frame, frame_number=frame_slider)"
   ]
  }
 ],
 "metadata": {
  "kernelspec": {
   "display_name": "Python 3 (ipykernel)",
   "language": "python",
   "name": "python3"
  },
  "language_info": {
   "codemirror_mode": {
    "name": "ipython",
    "version": 3
   },
   "file_extension": ".py",
   "mimetype": "text/x-python",
   "name": "python",
   "nbconvert_exporter": "python",
   "pygments_lexer": "ipython3",
   "version": "3.10.16"
  }
 },
 "nbformat": 4,
 "nbformat_minor": 5
}
